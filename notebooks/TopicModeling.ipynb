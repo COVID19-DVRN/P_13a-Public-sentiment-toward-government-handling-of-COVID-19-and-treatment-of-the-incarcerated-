{
 "cells": [
  {
   "cell_type": "code",
   "execution_count": 1,
   "metadata": {},
   "outputs": [],
   "source": [
    "import os\n",
    "os.chdir('..')"
   ]
  },
  {
   "cell_type": "code",
   "execution_count": 2,
   "metadata": {},
   "outputs": [],
   "source": [
    "news_path = 'data/cleaned_text/states_full.csv'\n",
    "\n",
    "# Original version\n",
    "preprocessed_pickle_path = 'big-data/original/preprocessed.pkl'\n",
    "w2v_model_path = 'big-data/original/w2v_model.pkl'\n",
    "\n",
    "# Modeling sentences\n",
    "sentences_story_id_path = 'big-data/modelling-sentences/sentences-story-ids.csv'\n",
    "sentences_preprocessed_pickle_path = 'big-data/modelling-sentences/preprocessed.pkl'\n",
    "sentences_preprocessed_lst_pickle_path = 'big-data/modelling-sentences/preprocessed_lst.pkl'\n",
    "sentences_w2v_model_path = 'big-data/modelling-sentences/w2v_model.pkl'"
   ]
  },
  {
   "cell_type": "markdown",
   "metadata": {},
   "source": [
    "# Packages and Presets"
   ]
  },
  {
   "cell_type": "code",
   "execution_count": 3,
   "metadata": {},
   "outputs": [
    {
     "name": "stderr",
     "output_type": "stream",
     "text": [
      "C:\\Users\\vldoa\\Anaconda3\\lib\\site-packages\\ipykernel_launcher.py:7: TqdmDeprecationWarning: This function will be removed in tqdm==5.0.0\n",
      "Please use `tqdm.notebook.*` instead of `tqdm._tqdm_notebook.*`\n",
      "  import sys\n",
      "C:\\Users\\vldoa\\Anaconda3\\lib\\site-packages\\tqdm\\std.py:668: FutureWarning: The Panel class is removed from pandas. Accessing it from the top-level namespace will also be removed in the next version\n",
      "  from pandas import Panel\n"
     ]
    }
   ],
   "source": [
    "# auxiliary\n",
    "import numpy as np\n",
    "import pandas as pd\n",
    "import copy\n",
    "import time\n",
    "import pickle\n",
    "from tqdm._tqdm_notebook import tqdm_notebook\n",
    "tqdm_notebook.pandas() # progress bar\n",
    "\n",
    "# Analytics\n",
    "import gensim\n",
    "import geotext_custom # for location analysis\n",
    "from sklearn.decomposition import NMF # Faster topic modeling\n",
    "from sklearn.decomposition import TruncatedSVD # SVD for sparse matrices\n",
    "import nltk\n",
    "# nltk.download('punkt') # sentence tokenizer\n",
    "stopwords = nltk.corpus.stopwords.words('english')\n",
    "\n",
    "#Plotting\n",
    "import matplotlib.pyplot as plt\n",
    "import seaborn as sns\n",
    "\n",
    "# Custom package\n",
    "import nlp.preprocessing as prep\n",
    "\n",
    "pd.set_option('display.max_rows', 8)"
   ]
  },
  {
   "cell_type": "code",
   "execution_count": 4,
   "metadata": {},
   "outputs": [
    {
     "name": "stdout",
     "output_type": "stream",
     "text": [
      "['fridge', 'cook', 'ohio']\n"
     ]
    }
   ],
   "source": [
    "def remove_places_from_string_lst_lower_case(string_lst):\n",
    "    \"\"\"\n",
    "    Given a list of strings, return the strings that aren't locations.\n",
    "    Used to ensure topic models don't rely on location information.\n",
    "    \"\"\"\n",
    "    # import geotext_custom\n",
    "    \n",
    "    return_lst = []\n",
    "    for string in string_lst:\n",
    "        places = geotext_custom.geotext.GeoText(string)\n",
    "        # if not ID'd as a place, return the string\n",
    "        if sum([len(places.cities), len(places.countries),\n",
    "                len(places.country_mentions), len(places.nationalities)]) == 0:\n",
    "            return_lst.append(string)\n",
    "            \n",
    "    return return_lst\n",
    "\n",
    "x = remove_places_from_string_lst_lower_case(['china', 'fridge', 'florida', 'cook', 'ohio'])\n",
    "print(x)"
   ]
  },
  {
   "cell_type": "markdown",
   "metadata": {},
   "source": [
    "# Data Prep"
   ]
  },
  {
   "cell_type": "code",
   "execution_count": 13,
   "metadata": {},
   "outputs": [],
   "source": [
    "news = pd.read_csv(news_path, encoding = \"ISO-8859-1\")\n",
    "news['new_text'] = news['new_text'].fillna('').astype(str)"
   ]
  },
  {
   "cell_type": "code",
   "execution_count": 14,
   "metadata": {},
   "outputs": [],
   "source": [
    "## Code used to remove location descriptors from sentences. Didn't help too much. \n",
    "\n",
    "# news['new_text_split'] = news['new_text'].progress_apply(lambda x: x.split(' '))\n",
    "# news['new_text_split_places_removed'] = news['new_text_split'].progress_apply(\n",
    "#     lambda x: remove_places_from_string_lst_lower_case(x))\n",
    "# news['new_text_places_removed'] = news['new_text_split'].progress_apply(lambda x: (' ').join(x))\n",
    "\n",
    "# i = np.array([len(item) for item in news['new_text_split']])\n",
    "# i2 = np.array([len(item) for item in news['new_text_split_places_removed']])\n",
    "\n",
    "# print(str(round(np.sum(i - i2) / np.sum(i) * 100, 3)) + '% location words removed')"
   ]
  },
  {
   "cell_type": "code",
   "execution_count": 15,
   "metadata": {},
   "outputs": [
    {
     "data": {
      "application/vnd.jupyter.widget-view+json": {
       "model_id": "273065edc8a34f3c95f17ae6b3dabf38",
       "version_major": 2,
       "version_minor": 0
      },
      "text/plain": [
       "HBox(children=(FloatProgress(value=0.0, max=8907.0), HTML(value='')))"
      ]
     },
     "metadata": {},
     "output_type": "display_data"
    },
    {
     "name": "stdout",
     "output_type": "stream",
     "text": [
      "\n"
     ]
    }
   ],
   "source": [
    "# Split sentences that we'll topic-model\n",
    "news['new_text_sentence_lst'] = news['new_text'].progress_apply(\n",
    "    lambda x: nltk.tokenize.sent_tokenize(x))"
   ]
  },
  {
   "cell_type": "code",
   "execution_count": 18,
   "metadata": {},
   "outputs": [
    {
     "name": "stdout",
     "output_type": "stream",
     "text": [
      "0\n",
      "1000\n",
      "2000\n",
      "3000\n",
      "4000\n",
      "5000\n",
      "6000\n",
      "7000\n",
      "8000\n"
     ]
    }
   ],
   "source": [
    "sentence_list = []\n",
    "sentence_article_ids = []\n",
    "for e, lst in enumerate(news['new_text_sentence_lst']):\n",
    "    for sentence in lst:\n",
    "        sentence_list.append(sentence)\n",
    "        sentence_article_ids.append(news['stories_id'][e])\n",
    "    if e % 1000 == 0:\n",
    "        print(e)\n",
    "sentence_article_ids = np.array(sentence_article_ids)"
   ]
  },
  {
   "cell_type": "code",
   "execution_count": 19,
   "metadata": {},
   "outputs": [],
   "source": [
    "sentence_list_pd = pd.DataFrame(sentence_list, columns=['sentence'])\n",
    "sentence_list_pd['stories_id'] = sentence_article_ids"
   ]
  },
  {
   "cell_type": "code",
   "execution_count": 88,
   "metadata": {},
   "outputs": [],
   "source": [
    "# sentence_list_pd.to_csv(sentences_story_id_path, index=False)\n",
    "\n",
    "# sentence_list_pd = pd.read_csv(sentences_story_id_path)"
   ]
  },
  {
   "cell_type": "code",
   "execution_count": 21,
   "metadata": {},
   "outputs": [
    {
     "name": "stdout",
     "output_type": "stream",
     "text": [
      "158.25172448158264\n"
     ]
    }
   ],
   "source": [
    "# function to perform lemmatize and stem preprocessing steps on the data set.\n",
    "t = time.time()\n",
    "# preprocessor = prep.Preprocessor(news['new_text_places_removed'])\n",
    "preprocessor = prep.Preprocessor(sentence_list_pd['sentence'])\n",
    "preprocessor.preprocess(lemmatize=True, # stopwords=, \n",
    "                        min_token_length=3)\n",
    "print(time.time() - t)"
   ]
  },
  {
   "cell_type": "code",
   "execution_count": 22,
   "metadata": {},
   "outputs": [
    {
     "name": "stdout",
     "output_type": "stream",
     "text": [
      "34.22683906555176\n"
     ]
    }
   ],
   "source": [
    "t = time.time()\n",
    "preprocessor.get_bigrams_from_preprocessed()\n",
    "print(time.time() - t)"
   ]
  },
  {
   "cell_type": "code",
   "execution_count": 23,
   "metadata": {},
   "outputs": [
    {
     "name": "stdout",
     "output_type": "stream",
     "text": [
      "0 antonio_texa\n",
      "1 arrest\n",
      "2 expos\n",
      "3 hold\n",
      "4 inmat\n",
      "5 jail\n",
      "6 novel_coronavirus\n",
      "7 offic\n",
      "8 possibl\n",
      "9 prior\n",
      "10 quarantin\n",
      "\n",
      " 112745 unique words. \n",
      "\n",
      "49757 unique words after extremes filtered. \n",
      "\n",
      "\n",
      "Word 808 (\"sign\") appears 1 time.\n",
      "Word 1429 (\"hope\") appears 1 time.\n",
      "Word 2425 (\"letter\") appears 1 time.\n",
      "Word 2470 (\"elect\") appears 2 time.\n",
      "Word 2653 (\"doubt\") appears 1 time.\n",
      "Word 3577 (\"surpris\") appears 1 time.\n",
      "Word 3735 (\"nationwid\") appears 1 time.\n",
      "Word 4068 (\"prosecutor\") appears 1 time.\n",
      "\n",
      " Corpus TF-IDF preview:\n",
      "[(0, 0.5619538765856165),\n",
      " (1, 0.2565119270239802),\n",
      " (2, 0.2899052453242766),\n",
      " (3, 0.21705580322335535),\n",
      " (4, 0.10107082052679874),\n",
      " (5, 0.1283166838417341),\n",
      " (6, 0.28302041801634414),\n",
      " (7, 0.1779860746529065),\n",
      " (8, 0.24435926423809817),\n",
      " (9, 0.3383950924143709),\n",
      " (10, 0.20820648143520662),\n",
      " (11, 0.22324369979158754),\n",
      " (12, 0.2852730972408723)]\n",
      "44.109684467315674\n"
     ]
    }
   ],
   "source": [
    "t = time.time()\n",
    "preprocessor.create_nlp_items_from_preprocessed_df(no_below=2, verbose=True)\n",
    "\n",
    "dictionary, bow_corpus, tfidf, corpus_tfidf, tfidf_sparse = (preprocessor.dictionary_,\n",
    "                                                             preprocessor.bow_corpus_,\n",
    "                                                             preprocessor.tfidf_,\n",
    "                                                             preprocessor.corpus_tfidf_,\n",
    "                                                             preprocessor.tfidf_sparse_)\n",
    "print(time.time() - t)"
   ]
  },
  {
   "cell_type": "code",
   "execution_count": 5,
   "metadata": {},
   "outputs": [],
   "source": [
    "## VERSION 1\n",
    "# f = open(preprocessed_pickle_path, \"wb\") # remember to open the file in binary mode\n",
    "# pickle.dump(preprocessor, f)\n",
    "# f.close()\n",
    "\n",
    "# preprocessor = pickle.load(preprocessed_pickle_path)\n",
    "\n",
    "# dictionary, bow_corpus, tfidf, corpus_tfidf, tfidf_sparse = (preprocessor.dictionary_,\n",
    "#                                                              preprocessor.bow_corpus_,\n",
    "#                                                              preprocessor.tfidf_,\n",
    "#                                                              preprocessor.corpus_tfidf_,\n",
    "#                                                              preprocessor.tfidf_sparse_)\n",
    "\n",
    "\n",
    "## VERSION 2\n",
    "# f = open(sentences_preprocessed_pickle_path, \"wb\") # remember to open the file in binary mode\n",
    "# pickle.dump(preprocessor, f)\n",
    "# f.close()\n",
    "\n",
    "# with open(sentences_preprocessed_pickle_path, 'rb') as pickle_file:\n",
    "#     preprocessor = pickle.load(pickle_file)\n",
    "\n",
    "# dictionary, bow_corpus, tfidf, corpus_tfidf, tfidf_sparse = (preprocessor.dictionary_,\n",
    "#                                                              preprocessor.bow_corpus_,\n",
    "#                                                              preprocessor.tfidf_,\n",
    "#                                                              preprocessor.corpus_tfidf_,\n",
    "#                                                              preprocessor.tfidf_sparse_)"
   ]
  },
  {
   "cell_type": "markdown",
   "metadata": {},
   "source": [
    "# Topic Modeling"
   ]
  },
  {
   "cell_type": "code",
   "execution_count": 79,
   "metadata": {},
   "outputs": [],
   "source": [
    "terms = list(dictionary.token2id.keys())"
   ]
  },
  {
   "cell_type": "code",
   "execution_count": 84,
   "metadata": {
    "scrolled": true
   },
   "outputs": [
    {
     "name": "stdout",
     "output_type": "stream",
     "text": [
      "262741 objects\n",
      "0, 0.002 seconds\n",
      "1000, 1.676 seconds\n",
      "2000, 4.524 seconds\n",
      "3000, 5.232 seconds\n",
      "4000, 7.369 seconds\n",
      "5000, 9.44 seconds\n",
      "6000, 10.281 seconds\n",
      "7000, 10.804 seconds\n",
      "8000, 11.94 seconds\n",
      "9000, 13.159 seconds\n",
      "10000, 14.625 seconds\n",
      "11000, 16.838 seconds\n",
      "12000, 17.525 seconds\n",
      "13000, 18.331 seconds\n",
      "14000, 20.083 seconds\n",
      "15000, 21.841 seconds\n",
      "16000, 23.638 seconds\n",
      "17000, 24.928 seconds\n",
      "18000, 25.727 seconds\n",
      "19000, 26.754 seconds\n",
      "20000, 29.676 seconds\n",
      "21000, 32.059 seconds\n",
      "22000, 34.766 seconds\n",
      "23000, 37.109 seconds\n",
      "24000, 39.021 seconds\n",
      "25000, 41.293 seconds\n",
      "26000, 43.463 seconds\n",
      "27000, 45.376 seconds\n",
      "28000, 47.86 seconds\n",
      "29000, 50.621 seconds\n",
      "30000, 53.113 seconds\n",
      "31000, 55.681 seconds\n",
      "32000, 58.47 seconds\n",
      "33000, 61.008 seconds\n",
      "34000, 63.026 seconds\n",
      "35000, 65.745 seconds\n",
      "36000, 68.065 seconds\n",
      "37000, 70.048 seconds\n",
      "38000, 71.717 seconds\n",
      "39000, 74.038 seconds\n",
      "40000, 76.129 seconds\n",
      "41000, 78.107 seconds\n",
      "42000, 79.798 seconds\n",
      "43000, 81.367 seconds\n",
      "44000, 82.945 seconds\n",
      "45000, 84.555 seconds\n",
      "46000, 86.08 seconds\n",
      "47000, 86.931 seconds\n",
      "48000, 88.541 seconds\n",
      "49000, 90.059 seconds\n",
      "50000, 91.954 seconds\n",
      "51000, 94.119 seconds\n",
      "52000, 95.934 seconds\n",
      "53000, 97.517 seconds\n",
      "54000, 99.903 seconds\n",
      "55000, 107.14 seconds\n",
      "56000, 111.939 seconds\n",
      "57000, 116.114 seconds\n",
      "58000, 119.317 seconds\n",
      "59000, 122.066 seconds\n",
      "60000, 124.745 seconds\n",
      "61000, 126.971 seconds\n",
      "62000, 130.183 seconds\n",
      "63000, 132.873 seconds\n",
      "64000, 135.355 seconds\n",
      "65000, 138.134 seconds\n",
      "66000, 140.024 seconds\n",
      "67000, 142.758 seconds\n",
      "68000, 146.211 seconds\n",
      "69000, 149.342 seconds\n",
      "70000, 152.774 seconds\n",
      "71000, 155.99 seconds\n",
      "72000, 158.28 seconds\n",
      "73000, 161.783 seconds\n",
      "74000, 164.994 seconds\n",
      "75000, 167.803 seconds\n",
      "76000, 170.184 seconds\n",
      "77000, 172.14 seconds\n",
      "78000, 175.376 seconds\n",
      "79000, 178.206 seconds\n",
      "80000, 180.816 seconds\n",
      "81000, 183.435 seconds\n",
      "82000, 186.474 seconds\n",
      "83000, 189.524 seconds\n",
      "84000, 191.824 seconds\n",
      "85000, 193.879 seconds\n",
      "86000, 196.069 seconds\n",
      "87000, 198.59 seconds\n",
      "88000, 201.263 seconds\n",
      "89000, 204.144 seconds\n",
      "90000, 207.221 seconds\n",
      "91000, 209.397 seconds\n",
      "92000, 212.022 seconds\n",
      "93000, 214.677 seconds\n",
      "94000, 217.741 seconds\n",
      "95000, 220.206 seconds\n",
      "96000, 223.269 seconds\n",
      "97000, 225.971 seconds\n",
      "98000, 229.285 seconds\n",
      "99000, 231.668 seconds\n",
      "100000, 233.76 seconds\n",
      "101000, 237.055 seconds\n",
      "102000, 239.242 seconds\n",
      "103000, 241.818 seconds\n",
      "104000, 243.87 seconds\n",
      "105000, 245.805 seconds\n",
      "106000, 248.036 seconds\n",
      "107000, 250.407 seconds\n",
      "108000, 252.919 seconds\n",
      "109000, 255.807 seconds\n",
      "110000, 258.463 seconds\n",
      "111000, 260.962 seconds\n",
      "112000, 263.844 seconds\n",
      "113000, 267.112 seconds\n",
      "114000, 269.964 seconds\n",
      "115000, 273.289 seconds\n",
      "116000, 277.864 seconds\n",
      "117000, 281.157 seconds\n",
      "118000, 283.887 seconds\n",
      "119000, 286.925 seconds\n",
      "120000, 290.321 seconds\n",
      "121000, 295.906 seconds\n",
      "122000, 300.428 seconds\n",
      "123000, 305.295 seconds\n",
      "124000, 309.149 seconds\n",
      "125000, 312.758 seconds\n",
      "126000, 317.039 seconds\n",
      "127000, 322.299 seconds\n",
      "128000, 328.19 seconds\n",
      "129000, 332.675 seconds\n",
      "130000, 335.164 seconds\n",
      "131000, 338.248 seconds\n",
      "132000, 341.821 seconds\n",
      "133000, 345.041 seconds\n",
      "134000, 348.296 seconds\n",
      "135000, 351.722 seconds\n",
      "136000, 355.314 seconds\n",
      "137000, 358.906 seconds\n",
      "138000, 362.159 seconds\n",
      "139000, 365.867 seconds\n",
      "140000, 370.479 seconds\n",
      "141000, 373.889 seconds\n",
      "142000, 377.609 seconds\n",
      "143000, 381.148 seconds\n",
      "144000, 384.982 seconds\n",
      "145000, 389.693 seconds\n",
      "146000, 393.273 seconds\n",
      "147000, 396.87 seconds\n",
      "148000, 401.284 seconds\n",
      "149000, 410.875 seconds\n",
      "150000, 415.903 seconds\n",
      "151000, 421.179 seconds\n",
      "152000, 426.362 seconds\n",
      "153000, 431.264 seconds\n",
      "154000, 436.48 seconds\n",
      "155000, 441.495 seconds\n",
      "156000, 447.205 seconds\n",
      "157000, 454.196 seconds\n",
      "158000, 460.654 seconds\n",
      "159000, 466.997 seconds\n",
      "160000, 473.046 seconds\n",
      "161000, 478.91 seconds\n",
      "162000, 482.849 seconds\n",
      "163000, 487.537 seconds\n",
      "164000, 491.676 seconds\n",
      "165000, 495.899 seconds\n",
      "166000, 499.476 seconds\n",
      "167000, 504.109 seconds\n",
      "168000, 510.019 seconds\n",
      "169000, 515.789 seconds\n",
      "170000, 520.514 seconds\n",
      "171000, 524.029 seconds\n",
      "172000, 528.365 seconds\n",
      "173000, 534.465 seconds\n",
      "174000, 539.075 seconds\n",
      "175000, 542.51 seconds\n",
      "176000, 546.62 seconds\n",
      "177000, 550.604 seconds\n",
      "178000, 555.774 seconds\n",
      "179000, 559.211 seconds\n",
      "180000, 562.603 seconds\n",
      "181000, 567.047 seconds\n",
      "182000, 571.752 seconds\n",
      "183000, 576.393 seconds\n",
      "184000, 580.643 seconds\n",
      "185000, 585.623 seconds\n",
      "186000, 589.544 seconds\n",
      "187000, 594.925 seconds\n",
      "188000, 599.133 seconds\n",
      "189000, 603.497 seconds\n",
      "190000, 607.823 seconds\n",
      "191000, 611.831 seconds\n",
      "192000, 617.151 seconds\n",
      "193000, 622.823 seconds\n",
      "194000, 626.194 seconds\n",
      "195000, 630.21 seconds\n",
      "196000, 634.679 seconds\n",
      "197000, 638.429 seconds\n",
      "198000, 641.538 seconds\n",
      "199000, 645.989 seconds\n",
      "200000, 651.641 seconds\n",
      "201000, 657.327 seconds\n",
      "202000, 661.287 seconds\n",
      "203000, 665.737 seconds\n",
      "204000, 670.356 seconds\n",
      "205000, 673.186 seconds\n",
      "206000, 677.066 seconds\n",
      "207000, 680.176 seconds\n",
      "208000, 683.461 seconds\n",
      "209000, 687.044 seconds\n",
      "210000, 690.803 seconds\n",
      "211000, 695.14 seconds\n",
      "212000, 702.498 seconds\n",
      "213000, 710.917 seconds\n",
      "214000, 715.054 seconds\n",
      "215000, 720.005 seconds\n",
      "216000, 723.677 seconds\n",
      "217000, 727.234 seconds\n",
      "218000, 730.519 seconds\n",
      "219000, 733.187 seconds\n",
      "220000, 739.793 seconds\n",
      "221000, 744.984 seconds\n",
      "222000, 750.811 seconds\n",
      "223000, 753.964 seconds\n",
      "224000, 756.447 seconds\n",
      "225000, 760.7 seconds\n",
      "226000, 764.39 seconds\n",
      "227000, 768.285 seconds\n",
      "228000, 772.067 seconds\n",
      "229000, 776.392 seconds\n",
      "230000, 781.758 seconds\n",
      "231000, 784.792 seconds\n",
      "232000, 788.269 seconds\n",
      "233000, 793.099 seconds\n",
      "234000, 796.252 seconds\n",
      "235000, 800.42 seconds\n",
      "236000, 804.289 seconds\n",
      "237000, 807.81 seconds\n",
      "238000, 811.031 seconds\n",
      "239000, 814.716 seconds\n",
      "240000, 818.444 seconds\n",
      "241000, 824.101 seconds\n",
      "242000, 828.17 seconds\n",
      "243000, 832.005 seconds\n",
      "244000, 835.726 seconds\n",
      "245000, 839.237 seconds\n",
      "246000, 843.41 seconds\n",
      "247000, 850.077 seconds\n",
      "248000, 859.363 seconds\n",
      "249000, 864.868 seconds\n",
      "250000, 869.308 seconds\n",
      "251000, 872.413 seconds\n",
      "252000, 875.919 seconds\n",
      "253000, 879.682 seconds\n",
      "254000, 883.463 seconds\n",
      "255000, 887.117 seconds\n",
      "256000, 891.153 seconds\n",
      "257000, 894.918 seconds\n",
      "258000, 898.287 seconds\n",
      "259000, 901.944 seconds\n",
      "260000, 906.09 seconds\n",
      "261000, 911.595 seconds\n",
      "262000, 916.271 seconds\n"
     ]
    }
   ],
   "source": [
    "# Ensure coherence between dict and preprocessed text\n",
    "t = time.time()\n",
    "print(str(len(preprocessor.preprocessed_text_)) + ' objects')\n",
    "preprocessed_text = []\n",
    "for e, doc in enumerate(preprocessor.preprocessed_text_):\n",
    "    doc_refined = []\n",
    "    for word in doc:\n",
    "        if word in terms:\n",
    "            doc_refined.append(word)\n",
    "    preprocessed_text.append(doc_refined)\n",
    "    \n",
    "    if e % 1000 == 0:\n",
    "        print(str(e) + ', ' + str(round(time.time() - t, 3)) + ' seconds')"
   ]
  },
  {
   "cell_type": "code",
   "execution_count": 6,
   "metadata": {},
   "outputs": [],
   "source": [
    "# f = open(sentences_preprocessed_lst_pickle_path, \"wb\") # remember to open the file in binary mode\n",
    "# pickle.dump(preprocessed_text, f)\n",
    "# f.close()\n",
    "\n",
    "\n",
    "\n",
    "# with open(sentences_preprocessed_lst_pickle_path, 'rb') as pickle_file:\n",
    "#     preprocessed_text = pickle.load(pickle_file)"
   ]
  },
  {
   "cell_type": "markdown",
   "metadata": {},
   "source": [
    "LDA would be too slow with 8-9k documents and 50k words. Using NMF instead."
   ]
  },
  {
   "cell_type": "markdown",
   "metadata": {},
   "source": [
    "https://github.com/derekgreene/topic-model-tutorial/blob/master/3%20-%20Parameter%20Selection%20for%20NMF.ipynb"
   ]
  },
  {
   "cell_type": "code",
   "execution_count": 85,
   "metadata": {},
   "outputs": [
    {
     "name": "stdout",
     "output_type": "stream",
     "text": [
      "129.95752382278442\n"
     ]
    }
   ],
   "source": [
    "t = time.time()\n",
    "w2v_model = gensim.models.Word2Vec(preprocessed_text, size=500, min_count=preprocessor.dictionary_no_below_, sg=1)\n",
    "print(time.time() - t)"
   ]
  },
  {
   "cell_type": "code",
   "execution_count": 142,
   "metadata": {},
   "outputs": [],
   "source": [
    "## VERSION 1\n",
    "# f = open(w2v_model_path, \"wb\") # remember to open the file in binary mode\n",
    "# pickle.dump(w2v_model, f)\n",
    "# f.close()\n",
    "\n",
    "# ## VERSION 2\n",
    "# f = open(sentences_w2v_model_path, \"wb\") # remember to open the file in binary mode\n",
    "# pickle.dump(w2v_model, f)\n",
    "# f.close()"
   ]
  },
  {
   "cell_type": "code",
   "execution_count": 86,
   "metadata": {},
   "outputs": [
    {
     "name": "stdout",
     "output_type": "stream",
     "text": [
      "n topics: 2\n",
      "4.3543078899383545\n",
      "n topics: 3\n",
      "4.884968996047974\n",
      "n topics: 4\n",
      "8.5187246799469\n",
      "n topics: 5\n",
      "9.116355180740356\n",
      "n topics: 6\n",
      "12.40431833267212\n",
      "n topics: 7\n",
      "25.01750898361206\n",
      "n topics: 8\n",
      "25.776037454605103\n",
      "n topics: 9\n",
      "21.814491748809814\n"
     ]
    }
   ],
   "source": [
    "topic_models = []\n",
    "topic_configs = np.arange(2, 10)\n",
    "for n_topics in topic_configs:\n",
    "    t = time.time()\n",
    "    nmf = NMF(n_components=n_topics, random_state=20)\n",
    "    nmf_transformed = nmf.fit_transform(tfidf_sparse)\n",
    "    topic_models.append([n_topics, nmf_transformed, nmf.components_])\n",
    "    print('n topics: ' + str(n_topics))\n",
    "    print(round(time.time() - t, 3) + ' seconds')"
   ]
  },
  {
   "cell_type": "code",
   "execution_count": 87,
   "metadata": {},
   "outputs": [],
   "source": [
    "def get_descriptor( all_terms, H, topic_index, top ):\n",
    "    # reverse sort the values to sort the indices\n",
    "    top_indices = np.argsort( H[topic_index,:] )[::-1]\n",
    "    # now get the terms corresponding to the top-ranked indices\n",
    "    top_terms = []\n",
    "    for term_index in top_indices[0:top]:\n",
    "        top_terms.append( all_terms[term_index] )\n",
    "    return top_terms"
   ]
  },
  {
   "cell_type": "code",
   "execution_count": 88,
   "metadata": {},
   "outputs": [],
   "source": [
    "def calculate_coherence( w2v_model, term_rankings ):\n",
    "    overall_coherence = 0.0\n",
    "    for topic_index in range(len(term_rankings)):\n",
    "        # check each pair of terms\n",
    "        pair_scores = []\n",
    "        for pair in combinations( term_rankings[topic_index], 2 ):\n",
    "            pair_scores.append( w2v_model.similarity(pair[0], pair[1]) )\n",
    "        # get the mean for all pairs in this topic\n",
    "        topic_score = sum(pair_scores) / len(pair_scores)\n",
    "        overall_coherence += topic_score\n",
    "    # get the mean score across all topics\n",
    "    return overall_coherence / len(term_rankings)"
   ]
  },
  {
   "cell_type": "code",
   "execution_count": 89,
   "metadata": {},
   "outputs": [
    {
     "name": "stderr",
     "output_type": "stream",
     "text": [
      "C:\\Users\\vldoa\\Anaconda3\\lib\\site-packages\\ipykernel_launcher.py:7: DeprecationWarning: Call to deprecated `similarity` (Method will be removed in 4.0.0, use self.wv.similarity() instead).\n",
      "  import sys\n"
     ]
    },
    {
     "name": "stdout",
     "output_type": "stream",
     "text": [
      "K=02: Coherence=0.2518\n",
      "K=03: Coherence=0.2784\n",
      "K=04: Coherence=0.2761\n",
      "K=05: Coherence=0.2742\n",
      "K=06: Coherence=0.2754\n"
     ]
    },
    {
     "ename": "KeyboardInterrupt",
     "evalue": "",
     "output_type": "error",
     "traceback": [
      "\u001b[1;31m---------------------------------------------------------------------------\u001b[0m",
      "\u001b[1;31mKeyboardInterrupt\u001b[0m                         Traceback (most recent call last)",
      "\u001b[1;32m<ipython-input-89-3123dc1eb0f2>\u001b[0m in \u001b[0;36m<module>\u001b[1;34m\u001b[0m\n\u001b[0;32m      9\u001b[0m     \u001b[1;31m# Now calculate the coherence based on our Word2vec model\u001b[0m\u001b[1;33m\u001b[0m\u001b[1;33m\u001b[0m\u001b[1;33m\u001b[0m\u001b[0m\n\u001b[0;32m     10\u001b[0m     \u001b[0mk_values\u001b[0m\u001b[1;33m.\u001b[0m\u001b[0mappend\u001b[0m\u001b[1;33m(\u001b[0m \u001b[0mk\u001b[0m \u001b[1;33m)\u001b[0m\u001b[1;33m\u001b[0m\u001b[1;33m\u001b[0m\u001b[0m\n\u001b[1;32m---> 11\u001b[1;33m     \u001b[0mcoherences\u001b[0m\u001b[1;33m.\u001b[0m\u001b[0mappend\u001b[0m\u001b[1;33m(\u001b[0m \u001b[0mcalculate_coherence\u001b[0m\u001b[1;33m(\u001b[0m \u001b[0mw2v_model\u001b[0m\u001b[1;33m,\u001b[0m \u001b[0mterm_rankings\u001b[0m \u001b[1;33m)\u001b[0m \u001b[1;33m)\u001b[0m\u001b[1;33m\u001b[0m\u001b[1;33m\u001b[0m\u001b[0m\n\u001b[0m\u001b[0;32m     12\u001b[0m     \u001b[0mprint\u001b[0m\u001b[1;33m(\u001b[0m\u001b[1;34m\"K=%02d: Coherence=%.4f\"\u001b[0m \u001b[1;33m%\u001b[0m \u001b[1;33m(\u001b[0m \u001b[0mk\u001b[0m\u001b[1;33m,\u001b[0m \u001b[0mcoherences\u001b[0m\u001b[1;33m[\u001b[0m\u001b[1;33m-\u001b[0m\u001b[1;36m1\u001b[0m\u001b[1;33m]\u001b[0m \u001b[1;33m)\u001b[0m \u001b[1;33m)\u001b[0m\u001b[1;33m\u001b[0m\u001b[1;33m\u001b[0m\u001b[0m\n",
      "\u001b[1;32m<ipython-input-88-c8fae5ea8823>\u001b[0m in \u001b[0;36mcalculate_coherence\u001b[1;34m(w2v_model, term_rankings)\u001b[0m\n\u001b[0;32m      7\u001b[0m             \u001b[0mpair_scores\u001b[0m\u001b[1;33m.\u001b[0m\u001b[0mappend\u001b[0m\u001b[1;33m(\u001b[0m \u001b[0mw2v_model\u001b[0m\u001b[1;33m.\u001b[0m\u001b[0msimilarity\u001b[0m\u001b[1;33m(\u001b[0m\u001b[0mpair\u001b[0m\u001b[1;33m[\u001b[0m\u001b[1;36m0\u001b[0m\u001b[1;33m]\u001b[0m\u001b[1;33m,\u001b[0m \u001b[0mpair\u001b[0m\u001b[1;33m[\u001b[0m\u001b[1;36m1\u001b[0m\u001b[1;33m]\u001b[0m\u001b[1;33m)\u001b[0m \u001b[1;33m)\u001b[0m\u001b[1;33m\u001b[0m\u001b[1;33m\u001b[0m\u001b[0m\n\u001b[0;32m      8\u001b[0m         \u001b[1;31m# get the mean for all pairs in this topic\u001b[0m\u001b[1;33m\u001b[0m\u001b[1;33m\u001b[0m\u001b[1;33m\u001b[0m\u001b[0m\n\u001b[1;32m----> 9\u001b[1;33m         \u001b[0mtopic_score\u001b[0m \u001b[1;33m=\u001b[0m \u001b[0msum\u001b[0m\u001b[1;33m(\u001b[0m\u001b[0mpair_scores\u001b[0m\u001b[1;33m)\u001b[0m \u001b[1;33m/\u001b[0m \u001b[0mlen\u001b[0m\u001b[1;33m(\u001b[0m\u001b[0mpair_scores\u001b[0m\u001b[1;33m)\u001b[0m\u001b[1;33m\u001b[0m\u001b[1;33m\u001b[0m\u001b[0m\n\u001b[0m\u001b[0;32m     10\u001b[0m         \u001b[0moverall_coherence\u001b[0m \u001b[1;33m+=\u001b[0m \u001b[0mtopic_score\u001b[0m\u001b[1;33m\u001b[0m\u001b[1;33m\u001b[0m\u001b[0m\n\u001b[0;32m     11\u001b[0m     \u001b[1;31m# get the mean score across all topics\u001b[0m\u001b[1;33m\u001b[0m\u001b[1;33m\u001b[0m\u001b[1;33m\u001b[0m\u001b[0m\n",
      "\u001b[1;31mKeyboardInterrupt\u001b[0m: "
     ]
    }
   ],
   "source": [
    "from itertools import combinations\n",
    "k_values = []\n",
    "coherences = []\n",
    "for (k,W,H) in topic_models:\n",
    "    # Get all of the topic descriptors - the term_rankings, based on top n terms\n",
    "    term_rankings = []\n",
    "    for topic_index in range(k):\n",
    "        term_rankings.append( get_descriptor( terms, H, topic_index, 300 ) )\n",
    "    # Now calculate the coherence based on our Word2vec model\n",
    "    k_values.append( k )\n",
    "    coherences.append( calculate_coherence( w2v_model, term_rankings ) )\n",
    "    print(\"K=%02d: Coherence=%.4f\" % ( k, coherences[-1] ) )"
   ]
  },
  {
   "cell_type": "code",
   "execution_count": 123,
   "metadata": {},
   "outputs": [],
   "source": [
    "nmf = NMF(n_components=3, random_state=20)\n",
    "nmf_transformed = nmf.fit_transform(tfidf_sparse)"
   ]
  },
  {
   "cell_type": "code",
   "execution_count": 124,
   "metadata": {},
   "outputs": [
    {
     "name": "stdout",
     "output_type": "stream",
     "text": [
      "Topic #0: inmat prison say test_posit jail releas correct peopl facil covid virus state depart coronavirus staff offici offic counti work week\n",
      "\n",
      "Topic #1: test improv_experi posit result negat symptom inmat covid pend come say result_pend hospit isol virus medic depart receiv come_negat show_symptom\n",
      "\n",
      "Topic #2: case report death covid coronavirus state confirm number total posit counti comment_violat communiti_guidelin ohio confirm_case monday prison infect updat increas\n",
      "\n"
     ]
    }
   ],
   "source": [
    "def print_top_words_nmf(nmf_model, dictionary, n_top_words=10):\n",
    "    for topic_idx, topic in enumerate(nmf_model.components_):\n",
    "        message = \"Topic #%d: \" % topic_idx\n",
    "        message += \" \".join([dictionary[i]\n",
    "                             for i in topic.argsort()[:-n_top_words - 1:-1]])\n",
    "        print(message)\n",
    "        print()\n",
    "        \n",
    "print_top_words_nmf(nmf, dictionary, n_top_words=20)"
   ]
  },
  {
   "cell_type": "code",
   "execution_count": 125,
   "metadata": {},
   "outputs": [],
   "source": [
    "topics_assigned = np.argmax(nmf_transformed, axis=1)"
   ]
  },
  {
   "cell_type": "code",
   "execution_count": 126,
   "metadata": {},
   "outputs": [],
   "source": [
    "truncatedsvd = TruncatedSVD(n_components = 30, algorithm = 'randomized', random_state = 20)\n",
    "svd_transformed = truncatedsvd.fit_transform(tfidf_sparse)"
   ]
  },
  {
   "cell_type": "code",
   "execution_count": 127,
   "metadata": {},
   "outputs": [
    {
     "data": {
      "image/png": "[encoded data removed]",
      "text/plain": [
       "<Figure size 432x288 with 1 Axes>"
      ]
     },
     "metadata": {
      "needs_background": "light"
     },
     "output_type": "display_data"
    }
   ],
   "source": [
    "for i in range(n_topics):\n",
    "    indices = np.argwhere(topics_assigned == i)\n",
    "    plt.scatter(svd_transformed[indices,0], svd_transformed[indices,1], alpha = 0.01)"
   ]
  },
  {
   "cell_type": "markdown",
   "metadata": {},
   "source": [
    "Review of documents"
   ]
  },
  {
   "cell_type": "code",
   "execution_count": 128,
   "metadata": {},
   "outputs": [
    {
     "name": "stdout",
     "output_type": "stream",
     "text": [
      "sign up for our weekly newsletter.\n",
      "\n",
      "loading... five people are in a conference room, surrounded by hundreds of empty, plastic -ounce bottles.\n",
      "\n",
      "in a statement released thursday night, the public defender's office expressed disappointment but said the office would continue to work with the da's office to secure the release of individual inmates.\n",
      "\n",
      "peter thorne, a spokesman for the city department of correction, said in a statement that the city âis doing everything we can to safely and humanely house people in our custodyâ during the epidemic.\n",
      "\n",
      "even before the supreme courtâs emergency order, khandelwal said dpd had been asking for all out-of-custody hearings to be postponed until at least april .\n",
      "\n",
      "do you think having, like, parents who were in prison, guardians who raised you who were radical leftists who lived underground for a while, then having a grandfather who was a civil liberties lawyer - do you think that whole constellation of family is what motivated you to dedicate your life to criminal justice reform?\n",
      "\n",
      "social distancing can save beds and lives.]\n",
      "\n",
      "âwe continually resupply soap and hand sanitizer at all correctional facilities,â she said.\n",
      "\n",
      "nathan wood, , was arrested on suspicion of sexual exploitation of a child and violation of parole.\n",
      "\n",
      "three facility workers tested positive earlier this week.\n",
      "\n"
     ]
    }
   ],
   "source": [
    "topic = 0; n = 10; np.random.seed(3)\n",
    "indices = np.argwhere((topics_assigned == topic) & \n",
    "                      (np.sum(nmf_transformed == 0, axis=1) == 2) # focus only on those where there's no topic mix\n",
    "                     ).T[0]\n",
    "indices_selected = np.random.choice(indices, n)\n",
    "\n",
    "for sentence in sentence_list_pd.iloc[indices_selected]['sentence']:\n",
    "    print(sentence)\n",
    "    print()"
   ]
  },
  {
   "cell_type": "markdown",
   "metadata": {},
   "source": [
    "### Subtopic Analytics: NMF"
   ]
  },
  {
   "cell_type": "code",
   "execution_count": 115,
   "metadata": {},
   "outputs": [],
   "source": [
    "indices_bigtopic = np.argwhere(topics_assigned == 0).T[0]\n",
    "preprocessed_text_bigtopic = [txt for e, txt in enumerate(preprocessed_text) if e in indices_bigtopic]"
   ]
  },
  {
   "cell_type": "code",
   "execution_count": 116,
   "metadata": {},
   "outputs": [],
   "source": [
    "t = time.time()\n",
    "w2v_model_topicX = gensim.models.Word2Vec(\n",
    "    preprocessed_text_bigtopic,\n",
    "    size=500, min_count=preprocessor.dictionary_no_below_, sg=1)\n",
    "print(time.time() - t)"
   ]
  },
  {
   "cell_type": "code",
   "execution_count": 117,
   "metadata": {},
   "outputs": [
    {
     "name": "stdout",
     "output_type": "stream",
     "text": [
      "n topics: 2\n",
      "7.809162616729736\n",
      "n topics: 3\n",
      "8.05700969696045\n",
      "n topics: 4\n",
      "9.467156171798706\n",
      "n topics: 5\n",
      "15.22657036781311\n",
      "n topics: 6\n",
      "15.267542839050293\n",
      "n topics: 7\n",
      "10.12273120880127\n",
      "n topics: 8\n",
      "13.403700590133667\n",
      "n topics: 9\n",
      "14.61994743347168\n"
     ]
    }
   ],
   "source": [
    "topic_models = []\n",
    "for n_topics in range(2, 10):\n",
    "    t = time.time()\n",
    "    nmf = NMF(n_components=n_topics, random_state=20)\n",
    "    nmf_transformed = nmf.fit_transform(tfidf_sparse[indices_bigtopic])\n",
    "    topic_models.append([n_topics, nmf_transformed, nmf.components_])\n",
    "    print('n topics: ' + str(n_topics))\n",
    "    print(time.time() - t)"
   ]
  },
  {
   "cell_type": "code",
   "execution_count": 118,
   "metadata": {},
   "outputs": [
    {
     "name": "stderr",
     "output_type": "stream",
     "text": [
      "C:\\Users\\vldoa\\Anaconda3\\lib\\site-packages\\ipykernel_launcher.py:7: DeprecationWarning: Call to deprecated `similarity` (Method will be removed in 4.0.0, use self.wv.similarity() instead).\n",
      "  import sys\n"
     ]
    },
    {
     "name": "stdout",
     "output_type": "stream",
     "text": [
      "K=02: Coherence=0.2373\n",
      "K=03: Coherence=0.2358\n",
      "K=04: Coherence=0.2387\n",
      "K=05: Coherence=0.2409\n",
      "K=06: Coherence=0.2422\n",
      "K=07: Coherence=0.2458\n",
      "K=08: Coherence=0.2559\n",
      "K=09: Coherence=0.2592\n"
     ]
    }
   ],
   "source": [
    "from itertools import combinations\n",
    "k_values = []\n",
    "coherences = []\n",
    "for (k,W,H) in topic_models:\n",
    "    # Get all of the topic descriptors - the term_rankings, based on top n terms\n",
    "    term_rankings = []\n",
    "    for topic_index in range(k):\n",
    "        term_rankings.append( get_descriptor( terms, H, topic_index, 100 ) )\n",
    "    # Now calculate the coherence based on our Word2vec model\n",
    "    k_values.append( k )\n",
    "    coherences.append( calculate_coherence( w2v_model_topicX, term_rankings ) )\n",
    "    print(\"K=%02d: Coherence=%.4f\" % ( k, coherences[-1] ) )"
   ]
  },
  {
   "cell_type": "code",
   "execution_count": 119,
   "metadata": {},
   "outputs": [
    {
     "name": "stdout",
     "output_type": "stream",
     "text": [
      "Topic #0: prison state feder coronavirus spread offici outbreak virus bureau feder_bureau covid popul year york visit countri father advoc risk pandem\n",
      "\n",
      "Topic #1: test_posit covid staff_member virus employe accord die coronavirus april hospit detaine staffer announc offici monday total addit resid friday sunday\n",
      "\n",
      "Topic #2: say go offici week time statement know need like work come right want think theyâ take thing communiti continu place\n",
      "\n",
      "Topic #3: jail counti popul reduc spread sheriff coronavirus hold offic outbreak detaine march cook_counti francisco covid effort go insid countri take\n",
      "\n",
      "Topic #4: peopl incarcer know communiti die million like hold need right virus risk hospit time come recov moder_symptom sick live caus_mild\n",
      "\n",
      "Topic #5: releas order earli court sentenc judg detaine month week pandem day consid march year serv call risk plan ask coronavirus\n",
      "\n",
      "Topic #6: correct depart facil offic health work state employe staff care accord provid offici covid protect center medic servic visit includ\n",
      "\n",
      "Topic #7: polit boudin person sign think time newslett public right organ polit_intersect engag_intellectu artist_academ news world critic valu_thought view_point repres_rang life\n",
      "\n",
      "Topic #8: inmat quarantin staff isol hous medic die symptom place virus facil cell current infect hospit screen day contact unit transfer\n",
      "\n"
     ]
    }
   ],
   "source": [
    "nmf = NMF(n_components=9, random_state=20)\n",
    "nmf_transformed = nmf.fit_transform(tfidf_sparse[indices_bigtopic])\n",
    "topics_assigned = np.argmax(nmf_transformed, axis=1)\n",
    "print_top_words_nmf(nmf, dictionary, n_top_words=20)"
   ]
  },
  {
   "cell_type": "code",
   "execution_count": 121,
   "metadata": {},
   "outputs": [
    {
     "ename": "MemoryError",
     "evalue": "Unable to allocate 64.1 MiB for an array with shape (40, 209882) and data type float64",
     "output_type": "error",
     "traceback": [
      "\u001b[1;31m---------------------------------------------------------------------------\u001b[0m",
      "\u001b[1;31mMemoryError\u001b[0m                               Traceback (most recent call last)",
      "\u001b[1;32m<ipython-input-121-9e1becb63113>\u001b[0m in \u001b[0;36m<module>\u001b[1;34m\u001b[0m\n\u001b[0;32m      1\u001b[0m \u001b[0mtruncatedsvd\u001b[0m \u001b[1;33m=\u001b[0m \u001b[0mTruncatedSVD\u001b[0m\u001b[1;33m(\u001b[0m\u001b[0mn_components\u001b[0m \u001b[1;33m=\u001b[0m \u001b[1;36m30\u001b[0m\u001b[1;33m,\u001b[0m \u001b[0malgorithm\u001b[0m \u001b[1;33m=\u001b[0m \u001b[1;34m'randomized'\u001b[0m\u001b[1;33m,\u001b[0m \u001b[0mrandom_state\u001b[0m \u001b[1;33m=\u001b[0m \u001b[1;36m20\u001b[0m\u001b[1;33m)\u001b[0m\u001b[1;33m\u001b[0m\u001b[1;33m\u001b[0m\u001b[0m\n\u001b[1;32m----> 2\u001b[1;33m \u001b[0msvd_transformed\u001b[0m \u001b[1;33m=\u001b[0m \u001b[0mtruncatedsvd\u001b[0m\u001b[1;33m.\u001b[0m\u001b[0mfit_transform\u001b[0m\u001b[1;33m(\u001b[0m\u001b[0mtfidf_sparse\u001b[0m\u001b[1;33m[\u001b[0m\u001b[0mindices_bigtopic\u001b[0m\u001b[1;33m]\u001b[0m\u001b[1;33m)\u001b[0m\u001b[1;33m\u001b[0m\u001b[1;33m\u001b[0m\u001b[0m\n\u001b[0m\u001b[0;32m      3\u001b[0m \u001b[1;33m\u001b[0m\u001b[0m\n\u001b[0;32m      4\u001b[0m \u001b[1;32mfor\u001b[0m \u001b[0mi\u001b[0m \u001b[1;32min\u001b[0m \u001b[0mrange\u001b[0m\u001b[1;33m(\u001b[0m\u001b[0mn_topics\u001b[0m\u001b[1;33m)\u001b[0m\u001b[1;33m:\u001b[0m\u001b[1;33m\u001b[0m\u001b[1;33m\u001b[0m\u001b[0m\n\u001b[0;32m      5\u001b[0m     \u001b[0mindices\u001b[0m \u001b[1;33m=\u001b[0m \u001b[0mnp\u001b[0m\u001b[1;33m.\u001b[0m\u001b[0margwhere\u001b[0m\u001b[1;33m(\u001b[0m\u001b[0mtopics_assigned\u001b[0m \u001b[1;33m==\u001b[0m \u001b[0mi\u001b[0m\u001b[1;33m)\u001b[0m\u001b[1;33m\u001b[0m\u001b[1;33m\u001b[0m\u001b[0m\n",
      "\u001b[1;32m~\\Anaconda3\\lib\\site-packages\\sklearn\\decomposition\\_truncated_svd.py\u001b[0m in \u001b[0;36mfit_transform\u001b[1;34m(self, X, y)\u001b[0m\n\u001b[0;32m    178\u001b[0m             U, Sigma, VT = randomized_svd(X, self.n_components,\n\u001b[0;32m    179\u001b[0m                                           \u001b[0mn_iter\u001b[0m\u001b[1;33m=\u001b[0m\u001b[0mself\u001b[0m\u001b[1;33m.\u001b[0m\u001b[0mn_iter\u001b[0m\u001b[1;33m,\u001b[0m\u001b[1;33m\u001b[0m\u001b[1;33m\u001b[0m\u001b[0m\n\u001b[1;32m--> 180\u001b[1;33m                                           random_state=random_state)\n\u001b[0m\u001b[0;32m    181\u001b[0m         \u001b[1;32melse\u001b[0m\u001b[1;33m:\u001b[0m\u001b[1;33m\u001b[0m\u001b[1;33m\u001b[0m\u001b[0m\n\u001b[0;32m    182\u001b[0m             \u001b[1;32mraise\u001b[0m \u001b[0mValueError\u001b[0m\u001b[1;33m(\u001b[0m\u001b[1;34m\"unknown algorithm %r\"\u001b[0m \u001b[1;33m%\u001b[0m \u001b[0mself\u001b[0m\u001b[1;33m.\u001b[0m\u001b[0malgorithm\u001b[0m\u001b[1;33m)\u001b[0m\u001b[1;33m\u001b[0m\u001b[1;33m\u001b[0m\u001b[0m\n",
      "\u001b[1;32m~\\Anaconda3\\lib\\site-packages\\sklearn\\utils\\extmath.py\u001b[0m in \u001b[0;36mrandomized_svd\u001b[1;34m(M, n_components, n_oversamples, n_iter, power_iteration_normalizer, transpose, flip_sign, random_state)\u001b[0m\n\u001b[0;32m    359\u001b[0m     \u001b[1;32mif\u001b[0m \u001b[0mflip_sign\u001b[0m\u001b[1;33m:\u001b[0m\u001b[1;33m\u001b[0m\u001b[1;33m\u001b[0m\u001b[0m\n\u001b[0;32m    360\u001b[0m         \u001b[1;32mif\u001b[0m \u001b[1;32mnot\u001b[0m \u001b[0mtranspose\u001b[0m\u001b[1;33m:\u001b[0m\u001b[1;33m\u001b[0m\u001b[1;33m\u001b[0m\u001b[0m\n\u001b[1;32m--> 361\u001b[1;33m             \u001b[0mU\u001b[0m\u001b[1;33m,\u001b[0m \u001b[0mV\u001b[0m \u001b[1;33m=\u001b[0m \u001b[0msvd_flip\u001b[0m\u001b[1;33m(\u001b[0m\u001b[0mU\u001b[0m\u001b[1;33m,\u001b[0m \u001b[0mV\u001b[0m\u001b[1;33m)\u001b[0m\u001b[1;33m\u001b[0m\u001b[1;33m\u001b[0m\u001b[0m\n\u001b[0m\u001b[0;32m    362\u001b[0m         \u001b[1;32melse\u001b[0m\u001b[1;33m:\u001b[0m\u001b[1;33m\u001b[0m\u001b[1;33m\u001b[0m\u001b[0m\n\u001b[0;32m    363\u001b[0m             \u001b[1;31m# In case of transpose u_based_decision=false\u001b[0m\u001b[1;33m\u001b[0m\u001b[1;33m\u001b[0m\u001b[1;33m\u001b[0m\u001b[0m\n",
      "\u001b[1;32m~\\Anaconda3\\lib\\site-packages\\sklearn\\utils\\extmath.py\u001b[0m in \u001b[0;36msvd_flip\u001b[1;34m(u, v, u_based_decision)\u001b[0m\n\u001b[0;32m    525\u001b[0m     \u001b[1;32mif\u001b[0m \u001b[0mu_based_decision\u001b[0m\u001b[1;33m:\u001b[0m\u001b[1;33m\u001b[0m\u001b[1;33m\u001b[0m\u001b[0m\n\u001b[0;32m    526\u001b[0m         \u001b[1;31m# columns of u, rows of v\u001b[0m\u001b[1;33m\u001b[0m\u001b[1;33m\u001b[0m\u001b[1;33m\u001b[0m\u001b[0m\n\u001b[1;32m--> 527\u001b[1;33m         \u001b[0mmax_abs_cols\u001b[0m \u001b[1;33m=\u001b[0m \u001b[0mnp\u001b[0m\u001b[1;33m.\u001b[0m\u001b[0margmax\u001b[0m\u001b[1;33m(\u001b[0m\u001b[0mnp\u001b[0m\u001b[1;33m.\u001b[0m\u001b[0mabs\u001b[0m\u001b[1;33m(\u001b[0m\u001b[0mu\u001b[0m\u001b[1;33m)\u001b[0m\u001b[1;33m,\u001b[0m \u001b[0maxis\u001b[0m\u001b[1;33m=\u001b[0m\u001b[1;36m0\u001b[0m\u001b[1;33m)\u001b[0m\u001b[1;33m\u001b[0m\u001b[1;33m\u001b[0m\u001b[0m\n\u001b[0m\u001b[0;32m    528\u001b[0m         \u001b[0msigns\u001b[0m \u001b[1;33m=\u001b[0m \u001b[0mnp\u001b[0m\u001b[1;33m.\u001b[0m\u001b[0msign\u001b[0m\u001b[1;33m(\u001b[0m\u001b[0mu\u001b[0m\u001b[1;33m[\u001b[0m\u001b[0mmax_abs_cols\u001b[0m\u001b[1;33m,\u001b[0m \u001b[0mrange\u001b[0m\u001b[1;33m(\u001b[0m\u001b[0mu\u001b[0m\u001b[1;33m.\u001b[0m\u001b[0mshape\u001b[0m\u001b[1;33m[\u001b[0m\u001b[1;36m1\u001b[0m\u001b[1;33m]\u001b[0m\u001b[1;33m)\u001b[0m\u001b[1;33m]\u001b[0m\u001b[1;33m)\u001b[0m\u001b[1;33m\u001b[0m\u001b[1;33m\u001b[0m\u001b[0m\n\u001b[0;32m    529\u001b[0m         \u001b[0mu\u001b[0m \u001b[1;33m*=\u001b[0m \u001b[0msigns\u001b[0m\u001b[1;33m\u001b[0m\u001b[1;33m\u001b[0m\u001b[0m\n",
      "\u001b[1;32m<__array_function__ internals>\u001b[0m in \u001b[0;36margmax\u001b[1;34m(*args, **kwargs)\u001b[0m\n",
      "\u001b[1;32m~\\Anaconda3\\lib\\site-packages\\numpy\\core\\fromnumeric.py\u001b[0m in \u001b[0;36margmax\u001b[1;34m(a, axis, out)\u001b[0m\n\u001b[0;32m   1184\u001b[0m \u001b[1;33m\u001b[0m\u001b[0m\n\u001b[0;32m   1185\u001b[0m     \"\"\"\n\u001b[1;32m-> 1186\u001b[1;33m     \u001b[1;32mreturn\u001b[0m \u001b[0m_wrapfunc\u001b[0m\u001b[1;33m(\u001b[0m\u001b[0ma\u001b[0m\u001b[1;33m,\u001b[0m \u001b[1;34m'argmax'\u001b[0m\u001b[1;33m,\u001b[0m \u001b[0maxis\u001b[0m\u001b[1;33m=\u001b[0m\u001b[0maxis\u001b[0m\u001b[1;33m,\u001b[0m \u001b[0mout\u001b[0m\u001b[1;33m=\u001b[0m\u001b[0mout\u001b[0m\u001b[1;33m)\u001b[0m\u001b[1;33m\u001b[0m\u001b[1;33m\u001b[0m\u001b[0m\n\u001b[0m\u001b[0;32m   1187\u001b[0m \u001b[1;33m\u001b[0m\u001b[0m\n\u001b[0;32m   1188\u001b[0m \u001b[1;33m\u001b[0m\u001b[0m\n",
      "\u001b[1;32m~\\Anaconda3\\lib\\site-packages\\numpy\\core\\fromnumeric.py\u001b[0m in \u001b[0;36m_wrapfunc\u001b[1;34m(obj, method, *args, **kwds)\u001b[0m\n\u001b[0;32m     59\u001b[0m \u001b[1;33m\u001b[0m\u001b[0m\n\u001b[0;32m     60\u001b[0m     \u001b[1;32mtry\u001b[0m\u001b[1;33m:\u001b[0m\u001b[1;33m\u001b[0m\u001b[1;33m\u001b[0m\u001b[0m\n\u001b[1;32m---> 61\u001b[1;33m         \u001b[1;32mreturn\u001b[0m \u001b[0mbound\u001b[0m\u001b[1;33m(\u001b[0m\u001b[1;33m*\u001b[0m\u001b[0margs\u001b[0m\u001b[1;33m,\u001b[0m \u001b[1;33m**\u001b[0m\u001b[0mkwds\u001b[0m\u001b[1;33m)\u001b[0m\u001b[1;33m\u001b[0m\u001b[1;33m\u001b[0m\u001b[0m\n\u001b[0m\u001b[0;32m     62\u001b[0m     \u001b[1;32mexcept\u001b[0m \u001b[0mTypeError\u001b[0m\u001b[1;33m:\u001b[0m\u001b[1;33m\u001b[0m\u001b[1;33m\u001b[0m\u001b[0m\n\u001b[0;32m     63\u001b[0m         \u001b[1;31m# A TypeError occurs if the object does have such a method in its\u001b[0m\u001b[1;33m\u001b[0m\u001b[1;33m\u001b[0m\u001b[1;33m\u001b[0m\u001b[0m\n",
      "\u001b[1;31mMemoryError\u001b[0m: Unable to allocate 64.1 MiB for an array with shape (40, 209882) and data type float64"
     ]
    }
   ],
   "source": [
    "truncatedsvd = TruncatedSVD(n_components = 30, algorithm = 'randomized', random_state = 20)\n",
    "svd_transformed = truncatedsvd.fit_transform(tfidf_sparse[indices_bigtopic])\n",
    "\n",
    "for i in range(n_topics):\n",
    "    indices = np.argwhere(topics_assigned == i)\n",
    "    plt.scatter(svd_transformed[indices,0], svd_transformed[indices,1], alpha = 0.1)"
   ]
  },
  {
   "cell_type": "markdown",
   "metadata": {},
   "source": [
    "Semi-supervised modeling\n",
    "* https://medium.com/pew-research-center-decoded/overcoming-the-limitations-of-topic-models-with-a-semi-supervised-approach-b947374e0455\n",
    "\n",
    "NMF notes:\n",
    "* https://github.com/derekgreene/topic-model-tutorial"
   ]
  },
  {
   "cell_type": "markdown",
   "metadata": {},
   "source": [
    "## CoRex"
   ]
  },
  {
   "cell_type": "code",
   "execution_count": 22,
   "metadata": {},
   "outputs": [],
   "source": [
    "from scipy.sparse import csr_matrix, find\n",
    "from scipy import sparse\n",
    "\n",
    "def sparse_where(mask, val, arr):\n",
    "    \"\"\" Sparse `np where` \"\"\"\n",
    "    out = arr.copy()\n",
    "    rows, cols, _ = find(mask)\n",
    "    for r, c in zip(rows, cols):\n",
    "        out[r, c] = val\n",
    "    return out\n",
    "\n",
    "# Create binary matrix\n",
    "matrix = sparse.csr_matrix(np.array([0, 1, 0, 1]))\n",
    "x_s, y_s, t_fs = find(x > 0)\n",
    "sparse_where(x > 0, 66, x).todense()\n",
    "\n",
    "t = time.time()\n",
    "dtm_binary_sparse = sparse_where(tfidf_sparse > 0, 1, tfidf_sparse)\n",
    "print(time.time() - t)\n",
    "\n",
    "# Get word list\n",
    "words = [dictionary[e] for e in range(len(dictionary))]"
   ]
  },
  {
   "cell_type": "markdown",
   "metadata": {},
   "source": [
    "## v1"
   ]
  },
  {
   "cell_type": "code",
   "execution_count": 82,
   "metadata": {},
   "outputs": [
    {
     "name": "stdout",
     "output_type": "stream",
     "text": [
      "319.62107157707214\n"
     ]
    }
   ],
   "source": [
    "from corextopic import corextopic as ct\n",
    "\n",
    "t = time.time()\n",
    "\n",
    "# Train the CorEx topic model\n",
    "topic_model = ct.Corex(n_hidden=2)  # Define the number of latent (hidden) topics to use.\n",
    "topic_model.fit(dtm_binary_sparse, words=words)\n",
    "\n",
    "print(time.time() - t)"
   ]
  },
  {
   "cell_type": "code",
   "execution_count": 84,
   "metadata": {},
   "outputs": [
    {
     "data": {
      "text/plain": [
       "[[('inmat', 0.08586505199443932),\n",
       "  ('prison', 0.05559236571260335),\n",
       "  ('covid', 0.04693015666031037),\n",
       "  ('correct', 0.039162652333908525),\n",
       "  ('facil', 0.03606587441134607),\n",
       "  ('depart', 0.03596304401868144),\n",
       "  ('state', 0.035928341841552816),\n",
       "  ('jail', 0.03355230810846108),\n",
       "  ('releas', 0.03289581929458154),\n",
       "  ('offici', 0.02780484915712747),\n",
       "  ('test_posit', 0.027257697384006612),\n",
       "  ('say', 0.026290996256156298),\n",
       "  ('coronavirus', 0.024815873950158548),\n",
       "  ('health', 0.022803559291557654),\n",
       "  ('counti', 0.021248337405688062),\n",
       "  ('virus', 0.020452722761421595),\n",
       "  ('staff', 0.018478389432892244),\n",
       "  ('spread', 0.017569663484044633),\n",
       "  ('case', 0.016201347647915903),\n",
       "  ('offic', 0.01587731698980752)],\n",
       " [('court', 0.024233508205563265),\n",
       "  ('judg', 0.014978865998597),\n",
       "  ('sentenc', 0.0131830695008204),\n",
       "  ('attorney', 0.011086063916750566),\n",
       "  ('charg', 0.01083320805713821),\n",
       "  ('order', 0.007377010293519846),\n",
       "  ('american_civil', 0.007318833012455026),\n",
       "  ('liberti_union', 0.007214251190929708),\n",
       "  ('file', 0.0066980119181455034),\n",
       "  ('crimin', 0.006465477060789016),\n",
       "  ('serv', 0.005812568746023021),\n",
       "  ('materi_publish', 0.005808295361146413),\n",
       "  ('redistribut', 0.0057705706155637875),\n",
       "  ('broadcast_rewrit', 0.005732358389444404),\n",
       "  ('arrest', 0.005052186571208902),\n",
       "  ('crime', 0.005004908122976464),\n",
       "  ('content_site', 0.004982788058220342),\n",
       "  ('convict', 0.004955690464453194),\n",
       "  ('bail', 0.004910479666369718),\n",
       "  ('capitol_hill', 0.004906934820807168)]]"
      ]
     },
     "execution_count": 84,
     "metadata": {},
     "output_type": "execute_result"
    }
   ],
   "source": [
    "topic_model.get_topics(20)"
   ]
  },
  {
   "cell_type": "code",
   "execution_count": 94,
   "metadata": {},
   "outputs": [
    {
     "name": "stdout",
     "output_type": "stream",
     "text": [
      "NOTE: 'docs' not provided to CorEx. Returning top docs as lists of row indices\n",
      "delaware enters âacceleration phaseâ of virus spread the number of coronavirus cases in delaware is more than doubling every three days, with a % increase in cases over the past week.\n",
      "\n",
      "pratt on monday noted that sheriff tom ferrara, in a letter to county officials on friday, cited a march order from solano county superior court officials authorizing the release of inmates who are serving county jail commitments with days or less remaining on their sentence, âso long as they qualify within the criteria set forth in the order.â however, no inmate whose crime includes serving time for domestic violence or an offense involving a victim of domestic violence or serving time for an offense that requiresregistration as a sex offender is eligible for early release, noted ferrara.\n",
      "\n",
      "\"there are over , people incarcerated in arizona and the environment of prisons are fertile for an outbreak â closed quarters, lack of resources, and a significant population who have a higher risk of contraction,\" said becca fealk, from the american friends service committee of arizona.\n",
      "\n",
      " horowitz report is enough to make j. edgar hoover blush covid- exposes terrible dangers of globalization confronting the u.s. debt crisis before itâs too late sacramento, calif. â federal judges on saturday refused on procedural grounds to order california to free thousands of prisoners to ease crowded conditions that attorneys representing inmates likened to a âtinderboxâ ready to ignite with the rapid spread of the coronavirus.\n",
      "\n",
      "\"there is no question joseph williams took advantage of this health emergency to commit crimes while he was out of jail awaiting resolution of a low-level, non-violent offense,\" said hillsborough county sheriff chad chronister in a statement.\n",
      "\n"
     ]
    }
   ],
   "source": [
    "t = 1\n",
    "\n",
    "ids = topic_model.get_top_docs(5)[t]\n",
    "ids = np.array([_[0] for _ in ids])\n",
    "\n",
    "for s in sentence_list_pd.iloc[ids]['sentence']:\n",
    "    print(s)\n",
    "    print()"
   ]
  },
  {
   "cell_type": "markdown",
   "metadata": {},
   "source": [
    "# v2"
   ]
  },
  {
   "cell_type": "code",
   "execution_count": 140,
   "metadata": {},
   "outputs": [
    {
     "data": {
      "text/plain": [
       "<262741x1 sparse matrix of type '<class 'numpy.float64'>'\n",
       "\twith 7540 stored elements in Compressed Sparse Row format>"
      ]
     },
     "execution_count": 140,
     "metadata": {},
     "output_type": "execute_result"
    }
   ],
   "source": [
    "tfidf_sparse[:,[dictionary.token2id['spread']]]"
   ]
  },
  {
   "cell_type": "code",
   "execution_count": 145,
   "metadata": {},
   "outputs": [],
   "source": [
    "t = time.time()\n",
    "\n",
    "# Train the CorEx topic model\n",
    "topic_model = ct.Corex(n_hidden=4)  # Define the number of latent (hidden) topics to use.\n",
    "topic_model.fit(dtm_binary_sparse, words=words, anchor_strength=2)\n",
    "\n",
    "print(time.time() - t)"
   ]
  },
  {
   "cell_type": "code",
   "execution_count": 141,
   "metadata": {},
   "outputs": [
    {
     "name": "stdout",
     "output_type": "stream",
     "text": [
      "411.2253496646881\n"
     ]
    }
   ],
   "source": [
    "t = time.time()\n",
    "\n",
    "# Train the CorEx topic model\n",
    "topic_model_anchored = ct.Corex(n_hidden=4)  # Define the number of latent (hidden) topics to use.\n",
    "topic_model_anchored.fit(dtm_binary_sparse, words=words,\n",
    "                         anchors=[['crimin', 'violent'],\n",
    "                                  ['crimin', 'violent'],\n",
    "                                  ['health', 'spread'],\n",
    "                                  ['health', 'spread']\n",
    "                                 ], anchor_strength=3)\n",
    "\n",
    "print(time.time() - t)"
   ]
  },
  {
   "cell_type": "code",
   "execution_count": 144,
   "metadata": {},
   "outputs": [],
   "source": [
    "# f = open('big-data/modelling-sentences/topic-model.pkl', \"wb\") # remember to open the file in binary mode\n",
    "# pickle.dump(topic_model, f)\n",
    "# f.close()\n",
    "\n",
    "# f = open('big-data/modelling-sentences/topic-model-anchored.pkl', \"wb\") # remember to open the file in binary mode\n",
    "# pickle.dump(topic_model_anchored, f)\n",
    "# f.close()"
   ]
  },
  {
   "cell_type": "code",
   "execution_count": 142,
   "metadata": {},
   "outputs": [
    {
     "data": {
      "text/plain": [
       "[[('crimin', 0.019624293939131388),\n",
       "  ('violent', 0.010845302051989662),\n",
       "  ('sentenc', 0.01945407735828215),\n",
       "  ('charg', 0.012574493522986016),\n",
       "  ('attorney_general', 0.008297124944715925),\n",
       "  ('convict', 0.0064284777448359405),\n",
       "  ('trump', 0.006235679139902886),\n",
       "  ('serv', 0.005911808763046744),\n",
       "  ('william_barr', 0.005820749586017451),\n",
       "  ('year', 0.00554649121043561),\n",
       "  ('crime', 0.0052635933160339),\n",
       "  ('home_confin', 0.004955723775521641),\n",
       "  ('arrest', 0.00465582322016501),\n",
       "  ('serv_year', 0.004168177524973875),\n",
       "  ('presid_donald', 0.003917442627377313),\n",
       "  ('month', 0.0035366034772879537),\n",
       "  ('murder', 0.0034681180948658882),\n",
       "  ('face', 0.0031563205128892235),\n",
       "  ('second_degre', 0.0031153030281095024),\n",
       "  ('violat', 0.00309888127570372)],\n",
       " [('releas', 0.09550727529771513),\n",
       "  ('court', 0.043814777624183184),\n",
       "  ('crimin', 0.014174595891422241),\n",
       "  ('judg', 0.029872315917768472),\n",
       "  ('violent', 0.007849220693117722),\n",
       "  ('order', 0.018056870289397658),\n",
       "  ('attorney', 0.016862015266518943),\n",
       "  ('immigr', 0.012472646189531889),\n",
       "  ('public_defend', 0.010674177668944804),\n",
       "  ('detaine', 0.010613855741953221),\n",
       "  ('prosecutor', 0.009601731780342638),\n",
       "  ('earli', 0.009568217240813541),\n",
       "  ('call', 0.008890619872053552),\n",
       "  ('bail', 0.008731257336650481),\n",
       "  ('vulner', 0.008447762379666707),\n",
       "  ('aclu', 0.008074669185039103),\n",
       "  ('hear', 0.0077388575667183225),\n",
       "  ('american_civil', 0.007650386199032518),\n",
       "  ('liberti_union', 0.007541047072414896),\n",
       "  ('defend', 0.007494667149104778)],\n",
       " [('health', 0.13283691848387616),\n",
       "  ('spread', 0.0881000138535989),\n",
       "  ('care', 0.015082992474062607),\n",
       "  ('public_health', 0.009810851560524908),\n",
       "  ('social_distanc', 0.00955542857161685),\n",
       "  ('safeti', 0.009344133338579337),\n",
       "  ('prevent', 0.008245546836062925),\n",
       "  ('protect', 0.007562731202389465),\n",
       "  ('measur', 0.007514390622885623),\n",
       "  ('provid', 0.0072979851401913055),\n",
       "  ('equip', 0.00610956448299877),\n",
       "  ('servic', 0.005236027152905882),\n",
       "  ('person_protect', 0.005165659093647731),\n",
       "  ('communiti', 0.005059646959172072),\n",
       "  ('ensur', 0.004955574908421727),\n",
       "  ('work', 0.004890086132729922),\n",
       "  ('peopl', 0.004838889614167087),\n",
       "  ('concern', 0.004829696419496775),\n",
       "  ('limit', 0.0045835775360409765),\n",
       "  ('continu', 0.0045174322541220125)],\n",
       " [('health', 0.04747237882206157),\n",
       "  ('inmat', 0.09895992424312365),\n",
       "  ('spread', 0.03196791086851396),\n",
       "  ('covid', 0.056396864113065166),\n",
       "  ('prison', 0.053346128002222375),\n",
       "  ('correct', 0.04460905954697925),\n",
       "  ('test_posit', 0.04189971021375198),\n",
       "  ('depart', 0.040366885277642255),\n",
       "  ('facil', 0.03942316709333271),\n",
       "  ('jail', 0.03709640451072547),\n",
       "  ('offici', 0.03297460738124306),\n",
       "  ('state', 0.03217751452477816),\n",
       "  ('virus', 0.029497331876089553),\n",
       "  ('coronavirus', 0.028856182320269912),\n",
       "  ('counti', 0.02470916521331699),\n",
       "  ('say', 0.023565831809201212),\n",
       "  ('case', 0.02112181173936979),\n",
       "  ('staff', 0.020678259199019857),\n",
       "  ('popul', 0.017260131069171247),\n",
       "  ('test', 0.017083816609692177)]]"
      ]
     },
     "execution_count": 142,
     "metadata": {},
     "output_type": "execute_result"
    }
   ],
   "source": [
    "topic_model_anchored.get_topics(20)"
   ]
  },
  {
   "cell_type": "code",
   "execution_count": 143,
   "metadata": {},
   "outputs": [
    {
     "name": "stdout",
     "output_type": "stream",
     "text": [
      "NOTE: 'docs' not provided to CorEx. Returning top docs as lists of row indices\n",
      "- copyright gleiser communications, llc home contact us employment eeo public inspection files sitemap  find an advertiser other stations in the gleiser communications family include: .\n",
      "\n",
      "a lawsuit filed tuesday by the american civil liberties union on behalf of immigrants detained in two maryland jails seeks to force ice to release detainees who are elderly or have underlying medical conditions.\n",
      "\n",
      "\"sheriffs in florida and throughout our country have released non-violent, low-level offenders to protect our deputies and the jail population from an outbreak.\"\n",
      "\n",
      "the civil rights group announced on friday that ice agreed to release two immigration detainees who are fighting deportation orders, mario luis rodas-mazariegos and ray anthony marzouca, after they were being held in the plymouth county correctional facility in massachusetts.\n",
      "\n",
      "âevery single person now trapped on rikers and other jails throughout new york state, serving short sentences for non-violent and other low-level offenses, will be released shortly anyway,â hechinger told the washington post in an email.\n",
      "\n"
     ]
    }
   ],
   "source": [
    "t = 1\n",
    "\n",
    "ids = topic_model_anchored.get_top_docs(5)[t]\n",
    "ids = np.array([_[0] for _ in ids])\n",
    "\n",
    "for s in sentence_list_pd.iloc[ids]['sentence']:\n",
    "    print(s)\n",
    "    print()"
   ]
  },
  {
   "cell_type": "code",
   "execution_count": null,
   "metadata": {},
   "outputs": [],
   "source": []
  }
 ],
 "metadata": {
  "kernelspec": {
   "display_name": "Python 3",
   "language": "python",
   "name": "python3"
  },
  "language_info": {
   "codemirror_mode": {
    "name": "ipython",
    "version": 3
   },
   "file_extension": ".py",
   "mimetype": "text/x-python",
   "name": "python",
   "nbconvert_exporter": "python",
   "pygments_lexer": "ipython3",
   "version": "3.7.3"
  }
 },
 "nbformat": 4,
 "nbformat_minor": 2
}
