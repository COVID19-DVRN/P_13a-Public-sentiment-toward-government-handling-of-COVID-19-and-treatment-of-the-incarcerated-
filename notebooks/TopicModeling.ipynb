{
 "cells": [
  {
   "cell_type": "code",
   "execution_count": 1,
   "metadata": {},
   "outputs": [],
   "source": [
    "import os\n",
    "os.chdir('..')\n",
    "news_path = 'data/cleaned_text/states_full.csv'\n",
    "preprocessed_pickle_path = 'big-data/preprocessed.pkl'\n",
    "w2v_model_path = 'big-data/w2v_model.pkl'"
   ]
  },
  {
   "cell_type": "markdown",
   "metadata": {},
   "source": [
    "# Packages and Presets"
   ]
  },
  {
   "cell_type": "code",
   "execution_count": 109,
   "metadata": {},
   "outputs": [],
   "source": [
    "# auxiliary\n",
    "import numpy as np\n",
    "import pandas as pd\n",
    "import copy\n",
    "import time\n",
    "import pickle\n",
    "\n",
    "# Analytics\n",
    "import gensim\n",
    "from sklearn.decomposition import NMF # Faster topic modeling\n",
    "from sklearn.decomposition import TruncatedSVD # SVD for sparse matrices\n",
    "import nltk\n",
    "stopwords = nltk.corpus.stopwords.words('english')\n",
    "\n",
    "#Plotting\n",
    "import matplotlib.pyplot as plt\n",
    "import seaborn as sns\n",
    "\n",
    "# Custom package\n",
    "import nlp.preprocessing as prep\n",
    "\n",
    "pd.set_option('display.max_rows', 8)"
   ]
  },
  {
   "cell_type": "markdown",
   "metadata": {},
   "source": [
    "# Data Prep"
   ]
  },
  {
   "cell_type": "code",
   "execution_count": 15,
   "metadata": {},
   "outputs": [],
   "source": [
    "news = pd.read_csv(news_path, encoding = \"ISO-8859-1\")\n",
    "news['new_text'] = news['new_text'].fillna('').astype(str)"
   ]
  },
  {
   "cell_type": "code",
   "execution_count": 18,
   "metadata": {},
   "outputs": [
    {
     "name": "stdout",
     "output_type": "stream",
     "text": [
      "157.35520434379578\n"
     ]
    }
   ],
   "source": [
    "# function to perform lemmatize and stem preprocessing steps on the data set.\n",
    "t = time.time()\n",
    "preprocessor = prep.Preprocessor(news['new_text'])\n",
    "preprocessor.preprocess(lemmatize=True, # stopwords=, \n",
    "                        min_token_length=3)\n",
    "print(time.time() - t)"
   ]
  },
  {
   "cell_type": "code",
   "execution_count": 19,
   "metadata": {},
   "outputs": [
    {
     "name": "stdout",
     "output_type": "stream",
     "text": [
      "34.80204439163208\n"
     ]
    }
   ],
   "source": [
    "t = time.time()\n",
    "preprocessor.get_bigrams_from_preprocessed()\n",
    "print(time.time() - t)"
   ]
  },
  {
   "cell_type": "code",
   "execution_count": 20,
   "metadata": {},
   "outputs": [
    {
     "name": "stdout",
     "output_type": "stream",
     "text": [
      "0 accord\n",
      "1 act\n",
      "2 add\n",
      "3 addit\n",
      "4 advertis\n",
      "5 american_evacu\n",
      "6 american_evacue\n",
      "7 antonio\n",
      "8 antonio_express\n",
      "9 antonio_texa\n",
      "10 appropri\n",
      "\n",
      " 122439 unique words. \n",
      "\n",
      "49951 unique words after extremes filtered. \n",
      "\n",
      "\n",
      "Word 32 (\"confirm_case\") appears 1 time.\n",
      "Word 34 (\"coronavirus\") appears 3 time.\n",
      "Word 47 (\"famili\") appears 1 time.\n",
      "Word 50 (\"friday\") appears 1 time.\n",
      "Word 54 (\"home\") appears 2 time.\n",
      "Word 60 (\"inmat\") appears 2 time.\n",
      "Word 65 (\"like\") appears 1 time.\n",
      "Word 81 (\"peopl\") appears 1 time.\n",
      "Word 89 (\"quarantin\") appears 1 time.\n",
      "Word 94 (\"relat\") appears 1 time.\n",
      "Word 101 (\"say\") appears 3 time.\n",
      "Word 108 (\"spread\") appears 1 time.\n",
      "Word 109 (\"state\") appears 2 time.\n",
      "Word 111 (\"symptom\") appears 1 time.\n",
      "Word 119 (\"week\") appears 2 time.\n",
      "Word 122 (\"work\") appears 1 time.\n",
      "Word 127 (\"area\") appears 1 time.\n",
      "Word 148 (\"incarcer\") appears 2 time.\n",
      "Word 149 (\"includ\") appears 1 time.\n",
      "Word 166 (\"prison\") appears 7 time.\n",
      "Word 177 (\"staff\") appears 1 time.\n",
      "Word 179 (\"step\") appears 1 time.\n",
      "Word 184 (\"test_posit\") appears 1 time.\n",
      "Word 194 (\"allow\") appears 1 time.\n",
      "Word 258 (\"hous\") appears 1 time.\n",
      "Word 271 (\"limit\") appears 1 time.\n",
      "Word 333 (\"time\") appears 2 time.\n",
      "Word 356 (\"go\") appears 1 time.\n",
      "Word 363 (\"inform\") appears 1 time.\n",
      "Word 364 (\"insid\") appears 1 time.\n",
      "Word 375 (\"take\") appears 1 time.\n",
      "Word 440 (\"effort\") appears 1 time.\n",
      "Word 443 (\"employe\") appears 1 time.\n",
      "Word 542 (\"servic\") appears 1 time.\n",
      "Word 562 (\"suspend\") appears 2 time.\n",
      "Word 661 (\"block\") appears 1 time.\n",
      "Word 680 (\"enter\") appears 1 time.\n",
      "Word 730 (\"abl\") appears 1 time.\n",
      "Word 784 (\"number\") appears 1 time.\n",
      "Word 803 (\"sign\") appears 1 time.\n",
      "Word 808 (\"soon\") appears 1 time.\n",
      "Word 953 (\"screen\") appears 1 time.\n",
      "Word 1072 (\"pandem\") appears 1 time.\n",
      "Word 1091 (\"avail\") appears 2 time.\n",
      "Word 1120 (\"minut\") appears 1 time.\n",
      "Word 1244 (\"previous\") appears 1 time.\n",
      "Word 1299 (\"visit\") appears 2 time.\n",
      "Word 1336 (\"temperatur\") appears 1 time.\n",
      "Word 1358 (\"plan\") appears 1 time.\n",
      "Word 1389 (\"question\") appears 1 time.\n",
      "Word 1585 (\"high\") appears 1 time.\n",
      "Word 1827 (\"requir\") appears 1 time.\n",
      "Word 1860 (\"clean\") appears 2 time.\n",
      "Word 1935 (\"administr\") appears 1 time.\n",
      "Word 1938 (\"correct\") appears 1 time.\n",
      "Word 2020 (\"pennsylvania\") appears 1 time.\n",
      "Word 2235 (\"famili_member\") appears 4 time.\n",
      "Word 2264 (\"institut\") appears 1 time.\n",
      "Word 2661 (\"connect\") appears 1 time.\n",
      "Word 4187 (\"agent\") appears 1 time.\n",
      "Word 4421 (\"temperatur_degre\") appears 1 time.\n",
      "Word 4424 (\"video_confer\") appears 1 time.\n",
      "Word 4451 (\"permiss\") appears 1 time.\n",
      "Word 4468 (\"applicationtim_att\") appears 1 time.\n",
      "Word 4470 (\"data_licensekey\") appears 1 time.\n",
      "Word 4472 (\"errorbeacon_data\") appears 1 time.\n",
      "Word 4473 (\"faca_applicationid\") appears 1 time.\n",
      "Word 4476 (\"info_beacon\") appears 1 time.\n",
      "Word 4477 (\"nreum_nreum\") appears 1 time.\n",
      "Word 4479 (\"transactionnam_queuetim\") appears 1 time.\n",
      "Word 4480 (\"window_nreum\") appears 1 time.\n",
      "Word 4735 (\"ask_seri\") appears 1 time.\n",
      "Word 5036 (\"traffic\") appears 1 time.\n",
      "Word 7250 (\"hour_shift\") appears 1 time.\n",
      "Word 8360 (\"secretari_john\") appears 1 time.\n",
      "Word 8362 (\"wetzel\") appears 3 time.\n",
      "Word 8861 (\"vendor\") appears 1 time.\n",
      "Word 8863 (\"asid\") appears 1 time.\n",
      "Word 8920 (\"video_chat\") appears 1 time.\n",
      "Word 15769 (\"constant_crew\") appears 1 time.\n",
      "Word 15770 (\"farther_away\") appears 1 time.\n",
      "Word 15771 (\"harrisburg_pennsylvaniaâ\") appears 1 time.\n",
      "Word 15772 (\"slot_devic\") appears 1 time.\n",
      "\n",
      " Corpus TF-IDF preview:\n",
      "[(0, 0.024225045529948253),\n",
      " (1, 0.0748759710667743),\n",
      " (2, 0.02847633186924199),\n",
      " (3, 0.023351640001424243),\n",
      " (4, 0.07396478566341413),\n",
      " (5, 0.11929072174733957),\n",
      " (6, 0.285728553988744),\n",
      " (7, 0.19143433300061424),\n",
      " (8, 0.1310774993708558),\n",
      " (9, 0.1310774993708558),\n",
      " (10, 0.047290902367485045),\n",
      " (11, 0.06560679578606914),\n",
      " (12, 0.031550190244694576),\n",
      " (13, 0.142864276994372),\n",
      " (14, 0.04576003235942517),\n",
      " (15, 0.12418267645675958),\n",
      " (16, 0.10750394412382334),\n",
      " (17, 0.07219948568511797),\n",
      " (18, 0.18470638802663938),\n",
      " (19, 0.08340712526412097),\n",
      " (20, 0.03739186234212391),\n",
      " (21, 0.05877238048656681),\n",
      " (22, 0.026733897591860335),\n",
      " (23, 0.03297550376236068),\n",
      " (24, 0.0979878311942791),\n",
      " (25, 0.142864276994372),\n",
      " (26, 0.052810408941923334),\n",
      " (27, 0.28915350906206155),\n",
      " (28, 0.044226552291622215),\n",
      " (29, 0.017626791862869924),\n",
      " (30, 0.05076497569468309),\n",
      " (31, 0.02470018632908046),\n",
      " (32, 0.052383327314425264),\n",
      " (33, 0.142864276994372),\n",
      " (34, 0.015537848417267184),\n",
      " (35, 0.013313829776682318),\n",
      " (36, 0.07019077674735323),\n",
      " (37, 0.01924643876468883),\n",
      " (38, 0.014400432786158707),\n",
      " (39, 0.040355054763706474),\n",
      " (40, 0.023678883576286867),\n",
      " (41, 0.10060912120972713),\n",
      " (42, 0.11929072174733957),\n",
      " (43, 0.053462010715662235),\n",
      " (44, 0.142864276994372),\n",
      " (45, 0.03754747352527894),\n",
      " (46, 0.07381755768201904),\n",
      " (47, 0.02628993132331773),\n",
      " (48, 0.08056641638980347),\n",
      " (49, 0.08179250900180406),\n",
      " (50, 0.023717347120452592),\n",
      " (51, 0.052265204577423195),\n",
      " (52, 0.029910611466064503),\n",
      " (53, 0.019496951354342193),\n",
      " (54, 0.04198152869971471),\n",
      " (55, 0.04441521074451162),\n",
      " (56, 0.06888899429188156),\n",
      " (57, 0.03265986174159459),\n",
      " (58, 0.03807670894683396),\n",
      " (59, 0.11046793472340277),\n",
      " (60, 0.020596309989041647),\n",
      " (61, 0.04435888037759471),\n",
      " (62, 0.039916486917852115),\n",
      " (63, 0.04235280183429021),\n",
      " (64, 0.042514863073687244),\n",
      " (65, 0.016822524206356375),\n",
      " (66, 0.041675233092146005),\n",
      " (67, 0.03169731207625635),\n",
      " (68, 0.06702074498521761),\n",
      " (69, 0.08146160863362542),\n",
      " (70, 0.05951452265385242),\n",
      " (71, 0.142864276994372),\n",
      " (72, 0.07254690428119219),\n",
      " (73, 0.056963688435543426),\n",
      " (74, 0.09279490003259624),\n",
      " (75, 0.03567440562237619),\n",
      " (76, 0.05693844597433508),\n",
      " (77, 0.012795503381283034),\n",
      " (78, 0.03328951770740106),\n",
      " (79, 0.1959756623885582),\n",
      " (80, 0.060965417589156363),\n",
      " (81, 0.017984194494717956),\n",
      " (82, 0.142864276994372),\n",
      " (83, 0.025188552242974435),\n",
      " (84, 0.04214668142422984),\n",
      " (85, 0.1310774993708558),\n",
      " (86, 0.030337155000497405),\n",
      " (87, 0.04959681002873655),\n",
      " (88, 0.05989810415763806),\n",
      " (89, 0.037260263360433137),\n",
      " (90, 0.285728553988744),\n",
      " (91, 0.03650329110279533),\n",
      " (92, 0.061432916573794315),\n",
      " (93, 0.11728785354266337),\n",
      " (94, 0.08365676179186071),\n",
      " (95, 0.012768467565296735),\n",
      " (96, 0.028732973106803956),\n",
      " (97, 0.04989560864731515),\n",
      " (98, 0.06327171309986365),\n",
      " (99, 0.03434324662591003),\n",
      " (100, 0.142864276994372),\n",
      " (101, 0.006916037324894934),\n",
      " (102, 0.12728300450565622),\n",
      " (103, 0.10587749420598462),\n",
      " (104, 0.1097746088177953),\n",
      " (105, 0.03965269487298559),\n",
      " (106, 0.142864276994372),\n",
      " (107, 0.142864276994372),\n",
      " (108, 0.012946078697602764),\n",
      " (109, 0.015601088992012247),\n",
      " (110, 0.06588033614490964),\n",
      " (111, 0.02220760537225581),\n",
      " (112, 0.04459893147646128),\n",
      " (113, 0.17670071383646455),\n",
      " (114, 0.05337367427999232),\n",
      " (115, 0.02567136295617913),\n",
      " (116, 0.06813787484392227),\n",
      " (117, 0.03622783930988785),\n",
      " (118, 0.12156138644131152),\n",
      " (119, 0.034989402045985475),\n",
      " (120, 0.06899905762515672),\n",
      " (121, 0.06516045190350854),\n",
      " (122, 0.013180687129278114),\n",
      " (123, 0.0979878311942791),\n",
      " (124, 0.01753017384370643)]\n",
      "24.246968984603882\n"
     ]
    }
   ],
   "source": [
    "t = time.time()\n",
    "preprocessor.create_nlp_items_from_preprocessed_df(no_below=2, verbose=True)\n",
    "\n",
    "dictionary, bow_corpus, tfidf, corpus_tfidf, tfidf_sparse = (preprocessor.dictionary_,\n",
    "                                                             preprocessor.bow_corpus_,\n",
    "                                                             preprocessor.tfidf_,\n",
    "                                                             preprocessor.corpus_tfidf_,\n",
    "                                                             preprocessor.tfidf_sparse_)\n",
    "print(time.time() - t)"
   ]
  },
  {
   "cell_type": "code",
   "execution_count": 24,
   "metadata": {},
   "outputs": [],
   "source": [
    "# f = open(preprocessed_pickle_path, \"wb\") # remember to open the file in binary mode\n",
    "# pickle.dump(preprocessor, f)\n",
    "# f.close()\n",
    "\n",
    "# preprocessor = pickle.load(preprocessed_pickle_path)\n",
    "\n",
    "# dictionary, bow_corpus, tfidf, corpus_tfidf, tfidf_sparse = (preprocessor.dictionary_,\n",
    "#                                                              preprocessor.bow_corpus_,\n",
    "#                                                              preprocessor.tfidf_,\n",
    "#                                                              preprocessor.corpus_tfidf_,\n",
    "#                                                              preprocessor.tfidf_sparse_)"
   ]
  },
  {
   "cell_type": "markdown",
   "metadata": {},
   "source": [
    "# Topic Modeling"
   ]
  },
  {
   "cell_type": "code",
   "execution_count": 141,
   "metadata": {},
   "outputs": [],
   "source": [
    "terms = list(dictionary.token2id.keys())"
   ]
  },
  {
   "cell_type": "code",
   "execution_count": 162,
   "metadata": {
    "scrolled": true
   },
   "outputs": [
    {
     "name": "stdout",
     "output_type": "stream",
     "text": [
      "0\n",
      "100\n",
      "200\n",
      "300\n",
      "400\n",
      "500\n",
      "600\n",
      "700\n",
      "800\n",
      "900\n",
      "1000\n",
      "1100\n",
      "1200\n",
      "1300\n",
      "1400\n",
      "1500\n",
      "1600\n",
      "1700\n",
      "1800\n",
      "1900\n",
      "2000\n",
      "2100\n",
      "2200\n",
      "2300\n",
      "2400\n",
      "2500\n",
      "2600\n",
      "2700\n",
      "2800\n",
      "2900\n",
      "3000\n",
      "3100\n",
      "3200\n",
      "3300\n",
      "3400\n",
      "3500\n",
      "3600\n",
      "3700\n",
      "3800\n",
      "3900\n",
      "4000\n",
      "4100\n",
      "4200\n",
      "4300\n",
      "4400\n",
      "4500\n",
      "4600\n",
      "4700\n",
      "4800\n",
      "4900\n",
      "5000\n",
      "5100\n",
      "5200\n",
      "5300\n",
      "5400\n",
      "5500\n",
      "5600\n",
      "5700\n",
      "5800\n",
      "5900\n",
      "6000\n",
      "6100\n",
      "6200\n",
      "6300\n",
      "6400\n",
      "6500\n",
      "6600\n",
      "6700\n",
      "6800\n",
      "6900\n",
      "7000\n",
      "7100\n",
      "7200\n",
      "7300\n",
      "7400\n",
      "7500\n",
      "7600\n",
      "7700\n",
      "7800\n",
      "7900\n",
      "8000\n",
      "8100\n",
      "8200\n",
      "8300\n",
      "8400\n",
      "8500\n",
      "8600\n",
      "8700\n",
      "8800\n",
      "8900\n"
     ]
    }
   ],
   "source": [
    "# Ensure coherence between dict and preprocessed text\n",
    "preprocessed_text = []\n",
    "for e, doc in enumerate(preprocessor.preprocessed_text_):\n",
    "    doc_refined = []\n",
    "    for word in doc:\n",
    "        if word in terms:\n",
    "            doc_refined.append(word)\n",
    "    preprocessed_text.append(doc_refined)\n",
    "    \n",
    "    if e % 100 == 0:\n",
    "        print(e)"
   ]
  },
  {
   "cell_type": "code",
   "execution_count": 173,
   "metadata": {},
   "outputs": [
    {
     "name": "stdout",
     "output_type": "stream",
     "text": [
      "192.922532081604\n"
     ]
    }
   ],
   "source": [
    "t = time.time()\n",
    "w2v_model = gensim.models.Word2Vec(preprocessed_text, size=500, min_count=preprocessor.dictionary_no_below_, sg=1)\n",
    "print(time.time() - t)"
   ]
  },
  {
   "cell_type": "code",
   "execution_count": 174,
   "metadata": {},
   "outputs": [],
   "source": [
    "# f = open(w2v_model_path, \"wb\") # remember to open the file in binary mode\n",
    "# pickle.dump(w2v_model, f)\n",
    "# f.close()"
   ]
  },
  {
   "cell_type": "code",
   "execution_count": 175,
   "metadata": {},
   "outputs": [
    {
     "name": "stdout",
     "output_type": "stream",
     "text": [
      "n topics: 2\n",
      "1.7469167709350586\n",
      "n topics: 3\n",
      "1.8218727111816406\n",
      "n topics: 4\n",
      "2.208632230758667\n",
      "n topics: 5\n",
      "4.309331655502319\n",
      "n topics: 6\n",
      "3.6977081298828125\n",
      "n topics: 7\n",
      "4.207395315170288\n",
      "n topics: 8\n",
      "5.731450319290161\n",
      "n topics: 9\n",
      "11.908628702163696\n"
     ]
    }
   ],
   "source": [
    "topic_models = []\n",
    "for n_topics in range(2, 10):\n",
    "    t = time.time()\n",
    "    nmf = NMF(n_components=n_topics, random_state=20)\n",
    "    nmf_transformed = nmf.fit_transform(tfidf_sparse)\n",
    "    topic_models.append([n_topics, nmf_transformed, nmf.components_])\n",
    "    print('n topics: ' + str(n_topics))\n",
    "    print(time.time() - t)"
   ]
  },
  {
   "cell_type": "code",
   "execution_count": 176,
   "metadata": {},
   "outputs": [],
   "source": [
    "def get_descriptor( all_terms, H, topic_index, top ):\n",
    "    # reverse sort the values to sort the indices\n",
    "    top_indices = np.argsort( H[topic_index,:] )[::-1]\n",
    "    # now get the terms corresponding to the top-ranked indices\n",
    "    top_terms = []\n",
    "    for term_index in top_indices[0:top]:\n",
    "        top_terms.append( all_terms[term_index] )\n",
    "    return top_terms"
   ]
  },
  {
   "cell_type": "code",
   "execution_count": 177,
   "metadata": {},
   "outputs": [],
   "source": [
    "def calculate_coherence( w2v_model, term_rankings ):\n",
    "    overall_coherence = 0.0\n",
    "    for topic_index in range(len(term_rankings)):\n",
    "        # check each pair of terms\n",
    "        pair_scores = []\n",
    "        for pair in combinations( term_rankings[topic_index], 2 ):\n",
    "            pair_scores.append( w2v_model.similarity(pair[0], pair[1]) )\n",
    "        # get the mean for all pairs in this topic\n",
    "        topic_score = sum(pair_scores) / len(pair_scores)\n",
    "        overall_coherence += topic_score\n",
    "    # get the mean score across all topics\n",
    "    return overall_coherence / len(term_rankings)"
   ]
  },
  {
   "cell_type": "code",
   "execution_count": 191,
   "metadata": {},
   "outputs": [
    {
     "name": "stderr",
     "output_type": "stream",
     "text": [
      "C:\\Users\\vldoa\\Anaconda3\\lib\\site-packages\\ipykernel_launcher.py:7: DeprecationWarning: Call to deprecated `similarity` (Method will be removed in 4.0.0, use self.wv.similarity() instead).\n",
      "  import sys\n"
     ]
    },
    {
     "name": "stdout",
     "output_type": "stream",
     "text": [
      "K=02: Coherence=0.2259\n",
      "K=03: Coherence=0.2530\n",
      "K=04: Coherence=0.2756\n",
      "K=05: Coherence=0.2795\n",
      "K=06: Coherence=0.2819\n",
      "K=07: Coherence=0.2794\n",
      "K=08: Coherence=0.2875\n",
      "K=09: Coherence=0.2939\n"
     ]
    }
   ],
   "source": [
    "from itertools import combinations\n",
    "k_values = []\n",
    "coherences = []\n",
    "for (k,W,H) in topic_models:\n",
    "    # Get all of the topic descriptors - the term_rankings, based on top n terms\n",
    "    term_rankings = []\n",
    "    for topic_index in range(k):\n",
    "        term_rankings.append( get_descriptor( terms, H, topic_index, 300 ) )\n",
    "    # Now calculate the coherence based on our Word2vec model\n",
    "    k_values.append( k )\n",
    "    coherences.append( calculate_coherence( w2v_model, term_rankings ) )\n",
    "    print(\"K=%02d: Coherence=%.4f\" % ( k, coherences[-1] ) )"
   ]
  },
  {
   "cell_type": "markdown",
   "metadata": {},
   "source": [
    "LDA would be too slow with 8-9k documents and 50k words. Using NMF instead."
   ]
  },
  {
   "cell_type": "code",
   "execution_count": 179,
   "metadata": {},
   "outputs": [],
   "source": [
    "nmf = NMF(n_components=4, random_state=20)\n",
    "nmf_transformed = nmf.fit_transform(tfidf_sparse)"
   ]
  },
  {
   "cell_type": "code",
   "execution_count": 180,
   "metadata": {},
   "outputs": [
    {
     "name": "stdout",
     "output_type": "stream",
     "text": [
      "Topic #0: prison jail inmat peopl say releas state counti correct depart\n",
      "\n",
      "Topic #1: detaine immigr detent_center detent immigr_custom immigr_detent bergen_counti cook_counti jail enforc\n",
      "\n",
      "Topic #2: ohio dewin marion_correct depart_rehabilit marion test prison mass case report\n",
      "\n",
      "Topic #3: william hillsborough_counti chronist second_degre sheriff drug_paraphernalia possess_heroin florida sheriff_chad emerg_commit\n",
      "\n"
     ]
    }
   ],
   "source": [
    "def print_top_words_nmf(nmf_model, dictionary, n_top_words=10):\n",
    "    for topic_idx, topic in enumerate(nmf_model.components_):\n",
    "        message = \"Topic #%d: \" % topic_idx\n",
    "        message += \" \".join([dictionary[i]\n",
    "                             for i in topic.argsort()[:-n_top_words - 1:-1]])\n",
    "        print(message)\n",
    "        print()\n",
    "        \n",
    "print_top_words_nmf(nmf, dictionary, n_top_words=10)"
   ]
  },
  {
   "cell_type": "code",
   "execution_count": 184,
   "metadata": {},
   "outputs": [],
   "source": [
    "topics_assigned = np.argmax(nmf_transformed, axis=1)"
   ]
  },
  {
   "cell_type": "code",
   "execution_count": 185,
   "metadata": {},
   "outputs": [],
   "source": [
    "truncatedsvd = TruncatedSVD(n_components = 30, algorithm = 'randomized', random_state = 20)\n",
    "svd_transformed = truncatedsvd.fit_transform(tfidf_sparse)"
   ]
  },
  {
   "cell_type": "code",
   "execution_count": 186,
   "metadata": {},
   "outputs": [
    {
     "data": {
      "image/png": "[encoded data removed]",
      "text/plain": [
       "<Figure size 432x288 with 1 Axes>"
      ]
     },
     "metadata": {
      "needs_background": "light"
     },
     "output_type": "display_data"
    }
   ],
   "source": [
    "for i in range(n_topics):\n",
    "    indices = np.argwhere(topics_assigned == i)\n",
    "    plt.scatter(svd_transformed[indices,0], svd_transformed[indices,1], alpha = 0.1)"
   ]
  },
  {
   "cell_type": "markdown",
   "metadata": {},
   "source": [
    "https://github.com/derekgreene/topic-model-tutorial/blob/master/3%20-%20Parameter%20Selection%20for%20NMF.ipynb"
   ]
  },
  {
   "cell_type": "markdown",
   "metadata": {},
   "source": [
    "## Subtopic Analytics"
   ]
  },
  {
   "cell_type": "code",
   "execution_count": 195,
   "metadata": {},
   "outputs": [],
   "source": [
    "indices_bigtopic = np.argwhere(topics_assigned == 0).T[0]\n",
    "preprocessed_text_bigtopic = [txt for e, txt in enumerate(preprocessed_text) if e in indices_bigtopic]"
   ]
  },
  {
   "cell_type": "code",
   "execution_count": 196,
   "metadata": {},
   "outputs": [],
   "source": [
    "w2v_model_bigtopic = gensim.models.Word2Vec(\n",
    "    preprocessed_text_bigtopic,\n",
    "    size=500, min_count=preprocessor.dictionary_no_below_, sg=1)"
   ]
  },
  {
   "cell_type": "code",
   "execution_count": 200,
   "metadata": {},
   "outputs": [
    {
     "name": "stdout",
     "output_type": "stream",
     "text": [
      "n topics: 2\n",
      "1.4890775680541992\n",
      "n topics: 3\n",
      "1.507068157196045\n",
      "n topics: 4\n",
      "2.107693672180176\n",
      "n topics: 5\n",
      "5.338694095611572\n",
      "n topics: 6\n",
      "9.08037781715393\n",
      "n topics: 7\n",
      "8.47375202178955\n",
      "n topics: 8\n",
      "8.213910102844238\n",
      "n topics: 9\n",
      "13.103886365890503\n"
     ]
    }
   ],
   "source": [
    "topic_models = []\n",
    "for n_topics in range(2, 10):\n",
    "    t = time.time()\n",
    "    nmf = NMF(n_components=n_topics, random_state=20)\n",
    "    nmf_transformed = nmf.fit_transform(tfidf_sparse[indices_bigtopic])\n",
    "    topic_models.append([n_topics, nmf_transformed, nmf.components_])\n",
    "    print('n topics: ' + str(n_topics))\n",
    "    print(time.time() - t)"
   ]
  },
  {
   "cell_type": "code",
   "execution_count": 205,
   "metadata": {},
   "outputs": [
    {
     "name": "stderr",
     "output_type": "stream",
     "text": [
      "C:\\Users\\vldoa\\Anaconda3\\lib\\site-packages\\ipykernel_launcher.py:7: DeprecationWarning: Call to deprecated `similarity` (Method will be removed in 4.0.0, use self.wv.similarity() instead).\n",
      "  import sys\n"
     ]
    },
    {
     "name": "stdout",
     "output_type": "stream",
     "text": [
      "K=02: Coherence=0.3063\n",
      "K=03: Coherence=0.3267\n",
      "K=04: Coherence=0.3214\n",
      "K=05: Coherence=0.3034\n",
      "K=06: Coherence=0.3060\n",
      "K=07: Coherence=0.3239\n",
      "K=08: Coherence=0.3383\n",
      "K=09: Coherence=0.3280\n"
     ]
    }
   ],
   "source": [
    "from itertools import combinations\n",
    "k_values = []\n",
    "coherences = []\n",
    "for (k,W,H) in topic_models:\n",
    "    # Get all of the topic descriptors - the term_rankings, based on top n terms\n",
    "    term_rankings = []\n",
    "    for topic_index in range(k):\n",
    "        term_rankings.append( get_descriptor( terms, H, topic_index, 100 ) )\n",
    "    # Now calculate the coherence based on our Word2vec model\n",
    "    k_values.append( k )\n",
    "    coherences.append( calculate_coherence( w2v_model_bigtopic, term_rankings ) )\n",
    "    print(\"K=%02d: Coherence=%.4f\" % ( k, coherences[-1] ) )"
   ]
  },
  {
   "cell_type": "code",
   "execution_count": 211,
   "metadata": {},
   "outputs": [
    {
     "name": "stdout",
     "output_type": "stream",
     "text": [
      "Topic #0: prison inmat jail peopl say state releas correct feder counti test incarcer depart facil staff offici offic popul court work\n",
      "\n",
      "Topic #1: virginia resid juvenil_justic children sever_cold outsid_richmond virginia_louisiana juvenil_detent advoc test_posit washington boykin famili_valeri higher_josh heart_actual frustrat_littl boykin_facil expect_relax counsel_frequent brother_avula\n",
      "\n",
      "Topic #2: solano_counti nurs sheriffâ_offic deputi jail prepar_statement court_proceed natur serv counti confirm sheriff_ferrara commission_bryan direct_note afternoon_arraign long_qualifi nick_filloy establish_intak review_concur note_ferrara\n",
      "\n"
     ]
    }
   ],
   "source": [
    "nmf = NMF(n_components=3, random_state=20)\n",
    "nmf_transformed = nmf.fit_transform(tfidf_sparse[indices_bigtopic])\n",
    "topics_assigned = np.argmax(nmf_transformed, axis=1)\n",
    "print_top_words_nmf(nmf, dictionary, n_top_words=20)"
   ]
  },
  {
   "cell_type": "code",
   "execution_count": 212,
   "metadata": {},
   "outputs": [
    {
     "data": {
      "image/png": "[encoded data removed]",
      "text/plain": [
       "<Figure size 432x288 with 1 Axes>"
      ]
     },
     "metadata": {
      "needs_background": "light"
     },
     "output_type": "display_data"
    }
   ],
   "source": [
    "truncatedsvd = TruncatedSVD(n_components = 30, algorithm = 'randomized', random_state = 20)\n",
    "svd_transformed = truncatedsvd.fit_transform(tfidf_sparse[indices_bigtopic])\n",
    "\n",
    "for i in range(n_topics):\n",
    "    indices = np.argwhere(topics_assigned == i)\n",
    "    plt.scatter(svd_transformed[indices,0], svd_transformed[indices,1], alpha = 0.1)"
   ]
  }
 ],
 "metadata": {
  "kernelspec": {
   "display_name": "Python 3",
   "language": "python",
   "name": "python3"
  },
  "language_info": {
   "codemirror_mode": {
    "name": "ipython",
    "version": 3
   },
   "file_extension": ".py",
   "mimetype": "text/x-python",
   "name": "python",
   "nbconvert_exporter": "python",
   "pygments_lexer": "ipython3",
   "version": "3.7.3"
  }
 },
 "nbformat": 4,
 "nbformat_minor": 2
}
